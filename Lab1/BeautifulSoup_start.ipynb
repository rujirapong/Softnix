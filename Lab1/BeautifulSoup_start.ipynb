{
 "cells": [
  {
   "cell_type": "markdown",
   "metadata": {},
   "source": [
    "Import python library จำเป็นต่างๆ เช่น urllib, bs4 ดังนี้"
   ]
  },
  {
   "cell_type": "code",
   "execution_count": 1,
   "metadata": {
    "collapsed": true
   },
   "outputs": [],
   "source": [
    "import urllib\n",
    "import bs4\n",
    "from urllib.request import urlopen as uReq\n",
    "from bs4 import BeautifulSoup as soup\n"
   ]
  },
  {
   "cell_type": "markdown",
   "metadata": {},
   "source": [
    "ดึงข้อมูลจากเว็บนี้"
   ]
  },
  {
   "cell_type": "code",
   "execution_count": null,
   "metadata": {
    "collapsed": true
   },
   "outputs": [],
   "source": [
    "source = \"https://pythonprogramming.net/parsememcparseface/\""
   ]
  },
  {
   "cell_type": "markdown",
   "metadata": {},
   "source": [
    "การโหลดค่าจากเว็บ และแปลงข้อมูลให้อยู่ในรูปกึ่งโครงสร้างเพื่อให้ง่ายต่อการนำไปตัดด้วย BeautifulSoup"
   ]
  },
  {
   "cell_type": "code",
   "execution_count": 2,
   "metadata": {},
   "outputs": [],
   "source": [
    "uClient = uReq(source)\n",
    "page = uClient.read()\n",
    "uClient.close()\n",
    "page_soup = soup(page, \"html.parser\")"
   ]
  },
  {
   "cell_type": "code",
   "execution_count": null,
   "metadata": {
    "collapsed": true
   },
   "outputs": [],
   "source": [
    "page_soup2 = soup(page, \"lxml\")"
   ]
  },
  {
   "cell_type": "markdown",
   "metadata": {},
   "source": [
    "ทดลองใช้ html.parser"
   ]
  },
  {
   "cell_type": "code",
   "execution_count": null,
   "metadata": {},
   "outputs": [],
   "source": [
    "print(page_soup)"
   ]
  },
  {
   "cell_type": "markdown",
   "metadata": {},
   "source": [
    "ทดลองใช้ lxml"
   ]
  },
  {
   "cell_type": "code",
   "execution_count": null,
   "metadata": {},
   "outputs": [],
   "source": [
    "print (page_soup2)"
   ]
  },
  {
   "cell_type": "markdown",
   "metadata": {},
   "source": [
    "ยังไม่เห็นข้อแตกต่าง จึงเลือกใช้ html.parser"
   ]
  },
  {
   "cell_type": "markdown",
   "metadata": {},
   "source": [
    "# เล่นกับ tag ต่างๆ"
   ]
  },
  {
   "cell_type": "code",
   "execution_count": 3,
   "metadata": {},
   "outputs": [
    {
     "name": "stdout",
     "output_type": "stream",
     "text": [
      "<title>Python Programming Tutorials</title>\n"
     ]
    }
   ],
   "source": [
    "print (page_soup.title)"
   ]
  },
  {
   "cell_type": "code",
   "execution_count": 4,
   "metadata": {},
   "outputs": [
    {
     "name": "stdout",
     "output_type": "stream",
     "text": [
      "title\n"
     ]
    }
   ],
   "source": [
    "print (page_soup.title.name)"
   ]
  },
  {
   "cell_type": "markdown",
   "metadata": {},
   "source": [
    "ถ้าข้อมูลใน tag เป้น string มันจะแสดงออกมา แต่ถ้าไม่ใช่ string จะมีค่าเป็น None เช่น"
   ]
  },
  {
   "cell_type": "code",
   "execution_count": 6,
   "metadata": {},
   "outputs": [
    {
     "name": "stdout",
     "output_type": "stream",
     "text": [
      "Python Programming Tutorials\n"
     ]
    }
   ],
   "source": [
    "print (page_soup.title.string)"
   ]
  },
  {
   "cell_type": "markdown",
   "metadata": {},
   "source": [
    "ถ้าข้อมูลใน tag เป็นอะไรก็ตาม ต้องการหมด เราใช้ .text ดังนี้"
   ]
  },
  {
   "cell_type": "code",
   "execution_count": 7,
   "metadata": {},
   "outputs": [
    {
     "name": "stdout",
     "output_type": "stream",
     "text": [
      "Python Programming Tutorials\n"
     ]
    }
   ],
   "source": [
    "print (page_soup.title.text)"
   ]
  },
  {
   "cell_type": "raw",
   "metadata": {},
   "source": [
    "ดึงค่าใน tag p แรก และสิ้นสุดที่ </p>"
   ]
  },
  {
   "cell_type": "code",
   "execution_count": 8,
   "metadata": {},
   "outputs": [
    {
     "name": "stdout",
     "output_type": "stream",
     "text": [
      "<p class=\"introduction\">Oh, hello! This is a <span style=\"font-size:115%\">wonderful</span> page meant to let you practice web scraping. This page was originally created to help people work with the <a href=\"https://www.crummy.com/software/BeautifulSoup/bs4/doc/\" target=\"blank\"><strong>Beautiful Soup 4</strong></a> library.</p>\n"
     ]
    }
   ],
   "source": [
    "print (page_soup.p)"
   ]
  },
  {
   "cell_type": "markdown",
   "metadata": {},
   "source": [
    "ถ้าใช้ find_all จะดึงมาทั้ง page_soup เข้า list"
   ]
  },
  {
   "cell_type": "code",
   "execution_count": 11,
   "metadata": {},
   "outputs": [
    {
     "name": "stdout",
     "output_type": "stream",
     "text": [
      "[<p class=\"introduction\">Oh, hello! This is a <span style=\"font-size:115%\">wonderful</span> page meant to let you practice web scraping. This page was originally created to help people work with the <a href=\"https://www.crummy.com/software/BeautifulSoup/bs4/doc/\" target=\"blank\"><strong>Beautiful Soup 4</strong></a> library.</p>, <p>The following table gives some general information for the following <code>programming languages</code>:</p>, <p>I think it's clear that, on a scale of 1-10, python is:</p>, <p>Javascript (dynamic data) test:</p>, <p class=\"jstest\" id=\"yesnojs\">y u bad tho?</p>, <p>Whᶐt hαppéns now¿</p>, <p><a href=\"/sitemap.xml\" target=\"blank\"><strong>sitemap</strong></a></p>, <p>\n",
      "<a class=\"btn btn-flat white modal-close\" href=\"#\">Cancel</a>  \n",
      "\t\t\t\t\t\t<a class=\"waves-effect waves-blue blue btn btn-flat modal-action modal-close\" href=\"#\">Login</a>\n",
      "</p>, <p>\n",
      "<a class=\"btn btn-flat white modal-close\" href=\"#\">Cancel</a>  \n",
      "\t\t\t\t\t\t\t\t<button class=\"btn\" type=\"submit\" value=\"Register\">Sign Up</button>\n",
      "</p>, <p class=\"grey-text text-lighten-4\">Contact: Harrison@pythonprogramming.net.</p>, <p class=\"grey-text right\" style=\"padding-right:10px\">Programming is a superpower.</p>]\n"
     ]
    }
   ],
   "source": [
    "print (page_soup.find_all('p'))"
   ]
  },
  {
   "cell_type": "markdown",
   "metadata": {},
   "source": [
    "เมื่อเข้าไปอยู่ใน list การนำไปใช้จึงต้องใช้ for ดังนี้"
   ]
  },
  {
   "cell_type": "code",
   "execution_count": 13,
   "metadata": {},
   "outputs": [
    {
     "name": "stdout",
     "output_type": "stream",
     "text": [
      "<p class=\"introduction\">Oh, hello! This is a <span style=\"font-size:115%\">wonderful</span> page meant to let you practice web scraping. This page was originally created to help people work with the <a href=\"https://www.crummy.com/software/BeautifulSoup/bs4/doc/\" target=\"blank\"><strong>Beautiful Soup 4</strong></a> library.</p>\n",
      "<p>The following table gives some general information for the following <code>programming languages</code>:</p>\n",
      "<p>I think it's clear that, on a scale of 1-10, python is:</p>\n",
      "<p>Javascript (dynamic data) test:</p>\n",
      "<p class=\"jstest\" id=\"yesnojs\">y u bad tho?</p>\n",
      "<p>Whᶐt hαppéns now¿</p>\n",
      "<p><a href=\"/sitemap.xml\" target=\"blank\"><strong>sitemap</strong></a></p>\n",
      "<p>\n",
      "<a class=\"btn btn-flat white modal-close\" href=\"#\">Cancel</a>  \n",
      "\t\t\t\t\t\t<a class=\"waves-effect waves-blue blue btn btn-flat modal-action modal-close\" href=\"#\">Login</a>\n",
      "</p>\n",
      "<p>\n",
      "<a class=\"btn btn-flat white modal-close\" href=\"#\">Cancel</a>  \n",
      "\t\t\t\t\t\t\t\t<button class=\"btn\" type=\"submit\" value=\"Register\">Sign Up</button>\n",
      "</p>\n",
      "<p class=\"grey-text text-lighten-4\">Contact: Harrison@pythonprogramming.net.</p>\n",
      "<p class=\"grey-text right\" style=\"padding-right:10px\">Programming is a superpower.</p>\n"
     ]
    },
    {
     "data": {
      "text/plain": [
       "1"
      ]
     },
     "execution_count": 13,
     "metadata": {},
     "output_type": "execute_result"
    }
   ],
   "source": [
    "for p_all in page_soup.find_all('p'):\n",
    "    print (p_all)\n",
    "    "
   ]
  },
  {
   "cell_type": "markdown",
   "metadata": {},
   "source": [
    "หากเราต้องการข้อมูลใน tag เท่านั้น และข้อมูลนั้นต้องการเฉพาะหรือมั่นใจว่ามันเป็น string ให้ใช้ดังนี้\n",
    "จะเห้นว่า ถ้าข้อมูลใน tag ไม่ใช่ string มันจะ return none ดัง 2  ข้อมูลแรก"
   ]
  },
  {
   "cell_type": "code",
   "execution_count": 14,
   "metadata": {},
   "outputs": [
    {
     "name": "stdout",
     "output_type": "stream",
     "text": [
      "None\n",
      "None\n",
      "I think it's clear that, on a scale of 1-10, python is:\n",
      "Javascript (dynamic data) test:\n",
      "y u bad tho?\n",
      "Whᶐt hαppéns now¿\n",
      "sitemap\n",
      "None\n",
      "None\n",
      "Contact: Harrison@pythonprogramming.net.\n",
      "Programming is a superpower.\n"
     ]
    }
   ],
   "source": [
    "for p_all in page_soup.find_all('p'):\n",
    "    print (p_all.string)"
   ]
  },
  {
   "cell_type": "markdown",
   "metadata": {},
   "source": [
    "แต่หากเราต้องการทั้งหมดใน tag ไม่สนใจว่าเป็นข้อมูลชนิดไหน เราใช้ .text ดังนี้"
   ]
  },
  {
   "cell_type": "code",
   "execution_count": 15,
   "metadata": {},
   "outputs": [
    {
     "name": "stdout",
     "output_type": "stream",
     "text": [
      "Oh, hello! This is a wonderful page meant to let you practice web scraping. This page was originally created to help people work with the Beautiful Soup 4 library.\n",
      "The following table gives some general information for the following programming languages:\n",
      "I think it's clear that, on a scale of 1-10, python is:\n",
      "Javascript (dynamic data) test:\n",
      "y u bad tho?\n",
      "Whᶐt hαppéns now¿\n",
      "sitemap\n",
      "\n",
      "Cancel  \n",
      "\t\t\t\t\t\tLogin\n",
      "\n",
      "\n",
      "Cancel  \n",
      "\t\t\t\t\t\t\t\tSign Up\n",
      "\n",
      "Contact: Harrison@pythonprogramming.net.\n",
      "Programming is a superpower.\n"
     ]
    }
   ],
   "source": [
    "for p_all in page_soup.find_all('p'):\n",
    "    print (p_all.text)"
   ]
  },
  {
   "cell_type": "markdown",
   "metadata": {},
   "source": [
    "ดึงข้อมูลเฉพาะ tag a เพื่อเอา link url ตัวอย่าง"
   ]
  },
  {
   "cell_type": "code",
   "execution_count": 20,
   "metadata": {},
   "outputs": [
    {
     "name": "stdout",
     "output_type": "stream",
     "text": [
      "|/\n",
      "|#\n",
      "Home|/\n",
      "+=1|/+=1/\n",
      "Support the Content|/support/\n",
      "Community|https://goo.gl/7zgAVQ\n",
      "Log in|/login/\n",
      "Sign up|/register/\n",
      "Home|/\n",
      "+=1|/+=1/\n",
      "Support the Content|/support/\n",
      "Community|https://goo.gl/7zgAVQ\n",
      "Log in|/login/\n",
      "Sign up|/register/\n",
      "Beautiful Soup 4|https://www.crummy.com/software/BeautifulSoup/bs4/doc/\n",
      "sitemap|/sitemap.xml\n",
      "Cancel|#\n",
      "Login|#\n",
      "Cancel|#\n",
      "Support this Website!|/support-donate/\n",
      "Hire me|/consulting/\n",
      "Facebook|https://www.facebook.com/pythonprogramming.net/\n",
      "Twitter|https://twitter.com/sentdex\n",
      "Google+|https://plus.google.com/+sentdex\n",
      "Terms and Conditions|/about/tos/\n",
      "Privacy Policy|/about/privacy-policy/\n",
      "Programming is a superpower.|https://xkcd.com/353/\n"
     ]
    }
   ],
   "source": [
    "for url in page_soup.find_all('a'):\n",
    "    link = url.get('href')\n",
    "    print (url.text+\"|\"+ link)\n",
    "    \n",
    "    "
   ]
  },
  {
   "cell_type": "markdown",
   "metadata": {},
   "source": [
    "เว็บสมัยใหม่จะมีเมนู ที่มีเมนูที่รองรับ responsive design เพื่อรองรับ mobile ดังนั้นเราจะใช้ tag nav เพื่อดึงมาได้ ตัวอย่าง"
   ]
  },
  {
   "cell_type": "code",
   "execution_count": 24,
   "metadata": {},
   "outputs": [
    {
     "name": "stdout",
     "output_type": "stream",
     "text": [
      "|/\n",
      "|#\n",
      "Home|/\n",
      "+=1|/+=1/\n",
      "Support the Content|/support/\n",
      "Community|https://goo.gl/7zgAVQ\n",
      "Log in|/login/\n",
      "Sign up|/register/\n",
      "Home|/\n",
      "+=1|/+=1/\n",
      "Support the Content|/support/\n",
      "Community|https://goo.gl/7zgAVQ\n",
      "Log in|/login/\n",
      "Sign up|/register/\n"
     ]
    }
   ],
   "source": [
    "nav = page_soup.nav\n",
    "for menu in nav.find_all('a'):\n",
    "    link = menu.get('href')\n",
    "    print (menu.text+\"|\"+ link)"
   ]
  },
  {
   "cell_type": "code",
   "execution_count": 25,
   "metadata": {
    "scrolled": false
   },
   "outputs": [
    {
     "name": "stdout",
     "output_type": "stream",
     "text": [
      "\n",
      "\n",
      "\n",
      "\n",
      "\n",
      "\n",
      "search\n",
      "\n",
      "\n",
      "\n",
      "\n",
      "\n",
      "Home\n",
      "+=1\n",
      "\n",
      "Support the Content\n",
      "Community\n",
      "Log in\n",
      "Sign up\n",
      "\n",
      "\n",
      "\n",
      "\n",
      "\n",
      "\n",
      "\n",
      "Home\n",
      "+=1\n",
      "\n",
      "Support the Content\n",
      "Community\n",
      "Log in\n",
      "Sign up\n",
      "\n",
      "\n",
      "\n",
      "\n",
      "\n",
      "\n",
      "\n",
      "\n",
      "search\n",
      "\n",
      "\n",
      "\n",
      "\n",
      "\n",
      "Home\n",
      "+=1\n",
      "\n",
      "Support the Content\n",
      "Community\n",
      "Log in\n",
      "Sign up\n",
      "\n",
      "\n",
      "\n",
      "\n",
      "\n",
      "\n",
      "\n",
      "Home\n",
      "+=1\n",
      "\n",
      "Support the Content\n",
      "Community\n",
      "Log in\n",
      "Sign up\n",
      "\n",
      "\n",
      "\n",
      "\n",
      "\n",
      "Oh, hello! This is a wonderful page meant to let you practice web scraping. This page was originally created to help people work with the Beautiful Soup 4 library.\n",
      "The following table gives some general information for the following programming languages:\n",
      "\n",
      "Python\n",
      "Pascal\n",
      "Lisp\n",
      "D#\n",
      "Cobol\n",
      "Fortran\n",
      "Haskell\n",
      "\n",
      "\n",
      "\n",
      "Program Name\n",
      "Internet Points\n",
      "Kittens?\n",
      "\n",
      "\n",
      "Python\n",
      "932914021\n",
      "Definitely\n",
      "\n",
      "\n",
      "Pascal\n",
      "532\n",
      "Unlikely\n",
      "\n",
      "\n",
      "Lisp\n",
      "1522\n",
      "Uncertain\n",
      "\n",
      "\n",
      "D#\n",
      "12\n",
      "Possibly\n",
      "\n",
      "\n",
      "Cobol\n",
      "3\n",
      "No.\n",
      "\n",
      "\n",
      "Fortran\n",
      "52124\n",
      "Yes.\n",
      "\n",
      "\n",
      "Haskell\n",
      "24\n",
      "lol.\n",
      "\n",
      "\n",
      "I think it's clear that, on a scale of 1-10, python is:\n",
      "\n",
      "\n",
      "\n",
      "\n",
      "\n",
      "\n",
      "Javascript (dynamic data) test:\n",
      "y u bad tho?\n",
      "\n",
      "     document.getElementById('yesnojs').innerHTML = 'Look at you shinin!';\n",
      "  \n",
      "\n",
      "Beautiful is better than ugly.\n",
      "Explicit is better than implicit.\n",
      "Simple is better than complex.\n",
      "Complex is better than complicated.\n",
      "Flat is better than nested.\n",
      "Sparse is better than dense.\n",
      "Readability counts.\n",
      "Special cases aren't special enough to break the rules.\n",
      "Although practicality beats purity.\n",
      "Errors should never pass silently.\n",
      "Unless explicitly silenced.\n",
      "In the face of ambiguity, refuse the temptation to guess.\n",
      "There should be one-- and preferably only one --obvious way to do it.\n",
      "Although that way may not be obvious at first unless you're Dutch.\n",
      "Now is better than never.\n",
      "Although never is often better than *right* now.\n",
      "If the implementation is hard to explain, it's a bad idea.\n",
      "If the implementation is easy to explain, it may be a good idea.\n",
      "Namespaces are one honking great idea -- let's do more of those!\n",
      "Whᶐt hαppéns now¿\n",
      "sitemap\n",
      "\n",
      "\n",
      "Oh, hello! This is a wonderful page meant to let you practice web scraping. This page was originally created to help people work with the Beautiful Soup 4 library.\n",
      "The following table gives some general information for the following programming languages:\n",
      "\n",
      "Python\n",
      "Pascal\n",
      "Lisp\n",
      "D#\n",
      "Cobol\n",
      "Fortran\n",
      "Haskell\n",
      "\n",
      "\n",
      "\n",
      "Program Name\n",
      "Internet Points\n",
      "Kittens?\n",
      "\n",
      "\n",
      "Python\n",
      "932914021\n",
      "Definitely\n",
      "\n",
      "\n",
      "Pascal\n",
      "532\n",
      "Unlikely\n",
      "\n",
      "\n",
      "Lisp\n",
      "1522\n",
      "Uncertain\n",
      "\n",
      "\n",
      "D#\n",
      "12\n",
      "Possibly\n",
      "\n",
      "\n",
      "Cobol\n",
      "3\n",
      "No.\n",
      "\n",
      "\n",
      "Fortran\n",
      "52124\n",
      "Yes.\n",
      "\n",
      "\n",
      "Haskell\n",
      "24\n",
      "lol.\n",
      "\n",
      "\n",
      "I think it's clear that, on a scale of 1-10, python is:\n",
      "\n",
      "\n",
      "\n",
      "\n",
      "\n",
      "\n",
      "Javascript (dynamic data) test:\n",
      "y u bad tho?\n",
      "\n",
      "     document.getElementById('yesnojs').innerHTML = 'Look at you shinin!';\n",
      "  \n",
      "\n",
      "Beautiful is better than ugly.\n",
      "Explicit is better than implicit.\n",
      "Simple is better than complex.\n",
      "Complex is better than complicated.\n",
      "Flat is better than nested.\n",
      "Sparse is better than dense.\n",
      "Readability counts.\n",
      "Special cases aren't special enough to break the rules.\n",
      "Although practicality beats purity.\n",
      "Errors should never pass silently.\n",
      "Unless explicitly silenced.\n",
      "In the face of ambiguity, refuse the temptation to guess.\n",
      "There should be one-- and preferably only one --obvious way to do it.\n",
      "Although that way may not be obvious at first unless you're Dutch.\n",
      "Now is better than never.\n",
      "Although never is often better than *right* now.\n",
      "If the implementation is hard to explain, it's a bad idea.\n",
      "If the implementation is easy to explain, it may be a good idea.\n",
      "Namespaces are one honking great idea -- let's do more of those!\n",
      "Whᶐt hαppéns now¿\n",
      "sitemap\n",
      "\n",
      "\n",
      "\n",
      "\n",
      "\n",
      "\n",
      "\n",
      "\n",
      "\n",
      "\n",
      "\n",
      "\n",
      "\n",
      "\n",
      "Login\n",
      "\n",
      "\n",
      "\n",
      "\n",
      "\n",
      "\n",
      "Username\n",
      "\n",
      "\n",
      "\n",
      "Password\n",
      "\n",
      "\n",
      "\n",
      "\n",
      "\n",
      "Cancel  \n",
      "\t\t\t\t\t\tLogin\n",
      "\n",
      "\n",
      "\n",
      "\n",
      "\n",
      "Login\n",
      "\n",
      "\n",
      "\n",
      "\n",
      "\n",
      "\n",
      "Username\n",
      "\n",
      "\n",
      "\n",
      "Password\n",
      "\n",
      "\n",
      "\n",
      "\n",
      "\n",
      "Cancel  \n",
      "\t\t\t\t\t\tLogin\n",
      "\n",
      "\n",
      "\n",
      "\n",
      "\n",
      "\n",
      "\n",
      "\n",
      "\n",
      "Username\n",
      "\n",
      "\n",
      "\n",
      "Password\n",
      "\n",
      "\n",
      "\n",
      "\n",
      "\n",
      "Cancel  \n",
      "\t\t\t\t\t\tLogin\n",
      "\n",
      "\n",
      "\n",
      "\n",
      "\n",
      "\n",
      "Username\n",
      "\n",
      "\n",
      "\n",
      "Password\n",
      "\n",
      "\n",
      "\n",
      "\n",
      "Username\n",
      "\n",
      "\n",
      "\n",
      "Password\n",
      "\n",
      "\n",
      "\n",
      "\n",
      "Sign up\n",
      "\n",
      "\n",
      "\n",
      "\n",
      "\n",
      "Username\n",
      "\n",
      "\n",
      "\n",
      "Password\n",
      "\n",
      "\n",
      "\n",
      "Repeat Password\n",
      "\n",
      "\n",
      "\n",
      "Email\n",
      "\n",
      "\n",
      "\n",
      "Cancel  \n",
      "\t\t\t\t\t\t\t\tSign Up\n",
      "\n",
      "\n",
      "\n",
      "\n",
      "\n",
      "\n",
      "Sign up\n",
      "\n",
      "\n",
      "\n",
      "\n",
      "\n",
      "Username\n",
      "\n",
      "\n",
      "\n",
      "Password\n",
      "\n",
      "\n",
      "\n",
      "Repeat Password\n",
      "\n",
      "\n",
      "\n",
      "Email\n",
      "\n",
      "\n",
      "\n",
      "Cancel  \n",
      "\t\t\t\t\t\t\t\tSign Up\n",
      "\n",
      "\n",
      "\n",
      "\n",
      "\n",
      "\n",
      "\n",
      "\n",
      "\n",
      "Username\n",
      "\n",
      "\n",
      "\n",
      "Password\n",
      "\n",
      "\n",
      "\n",
      "Repeat Password\n",
      "\n",
      "\n",
      "\n",
      "Email\n",
      "\n",
      "\n",
      "\n",
      "Cancel  \n",
      "\t\t\t\t\t\t\t\tSign Up\n",
      "\n",
      "\n",
      "\n",
      "\n",
      "\n",
      "\n",
      "Username\n",
      "\n",
      "\n",
      "\n",
      "Password\n",
      "\n",
      "\n",
      "\n",
      "Repeat Password\n",
      "\n",
      "\n",
      "\n",
      "Email\n",
      "\n",
      "\n",
      "\n",
      "\n",
      "\n",
      "You've reached the end!\n",
      "Contact: Harrison@pythonprogramming.net.\n",
      "\n",
      "Support this Website!\n",
      "Hire me\n",
      "Facebook\n",
      "Twitter\n",
      "Google+\n",
      "\n",
      "\n",
      "\n",
      "Legal stuff:\n",
      "\n",
      "Terms and Conditions\n",
      "Privacy Policy\n",
      "\n",
      "\n",
      "\n",
      "\n",
      "\n",
      "\n",
      "You've reached the end!\n",
      "Contact: Harrison@pythonprogramming.net.\n",
      "\n",
      "Support this Website!\n",
      "Hire me\n",
      "Facebook\n",
      "Twitter\n",
      "Google+\n",
      "\n",
      "\n",
      "\n",
      "Legal stuff:\n",
      "\n",
      "Terms and Conditions\n",
      "Privacy Policy\n",
      "\n",
      "\n",
      "\n",
      "\n",
      "You've reached the end!\n",
      "Contact: Harrison@pythonprogramming.net.\n",
      "\n",
      "Support this Website!\n",
      "Hire me\n",
      "Facebook\n",
      "Twitter\n",
      "Google+\n",
      "\n",
      "\n",
      "\n",
      "Legal stuff:\n",
      "\n",
      "Terms and Conditions\n",
      "Privacy Policy\n",
      "\n",
      "\n",
      "\n",
      "\n",
      "            © OVER 9000! PythonProgramming.net\n",
      "\n",
      "            \n",
      "\n",
      "\n",
      "            © OVER 9000! PythonProgramming.net\n",
      "\n",
      "            \n"
     ]
    }
   ],
   "source": [
    "for div in page_soup.find_all('div'):\n",
    "    print (div.text)"
   ]
  },
  {
   "cell_type": "markdown",
   "metadata": {},
   "source": [
    "ดึงมาเฉพาะ tag div ทั้งหมด โดย div เฉพาะที่มี class = container"
   ]
  },
  {
   "cell_type": "code",
   "execution_count": 27,
   "metadata": {},
   "outputs": [
    {
     "name": "stdout",
     "output_type": "stream",
     "text": [
      "\n",
      "\n",
      "\n",
      "\n",
      "search\n",
      "\n",
      "\n",
      "\n",
      "\n",
      "\n",
      "Home\n",
      "+=1\n",
      "\n",
      "Support the Content\n",
      "Community\n",
      "Log in\n",
      "Sign up\n",
      "\n",
      "\n",
      "\n",
      "\n",
      "\n",
      "\n",
      "\n",
      "Home\n",
      "+=1\n",
      "\n",
      "Support the Content\n",
      "Community\n",
      "Log in\n",
      "Sign up\n",
      "\n",
      "\n",
      "\n",
      "\n",
      "\n",
      "Oh, hello! This is a wonderful page meant to let you practice web scraping. This page was originally created to help people work with the Beautiful Soup 4 library.\n",
      "The following table gives some general information for the following programming languages:\n",
      "\n",
      "Python\n",
      "Pascal\n",
      "Lisp\n",
      "D#\n",
      "Cobol\n",
      "Fortran\n",
      "Haskell\n",
      "\n",
      "\n",
      "\n",
      "Program Name\n",
      "Internet Points\n",
      "Kittens?\n",
      "\n",
      "\n",
      "Python\n",
      "932914021\n",
      "Definitely\n",
      "\n",
      "\n",
      "Pascal\n",
      "532\n",
      "Unlikely\n",
      "\n",
      "\n",
      "Lisp\n",
      "1522\n",
      "Uncertain\n",
      "\n",
      "\n",
      "D#\n",
      "12\n",
      "Possibly\n",
      "\n",
      "\n",
      "Cobol\n",
      "3\n",
      "No.\n",
      "\n",
      "\n",
      "Fortran\n",
      "52124\n",
      "Yes.\n",
      "\n",
      "\n",
      "Haskell\n",
      "24\n",
      "lol.\n",
      "\n",
      "\n",
      "I think it's clear that, on a scale of 1-10, python is:\n",
      "\n",
      "\n",
      "\n",
      "\n",
      "\n",
      "\n",
      "Javascript (dynamic data) test:\n",
      "y u bad tho?\n",
      "\n",
      "     document.getElementById('yesnojs').innerHTML = 'Look at you shinin!';\n",
      "  \n",
      "\n",
      "Beautiful is better than ugly.\n",
      "Explicit is better than implicit.\n",
      "Simple is better than complex.\n",
      "Complex is better than complicated.\n",
      "Flat is better than nested.\n",
      "Sparse is better than dense.\n",
      "Readability counts.\n",
      "Special cases aren't special enough to break the rules.\n",
      "Although practicality beats purity.\n",
      "Errors should never pass silently.\n",
      "Unless explicitly silenced.\n",
      "In the face of ambiguity, refuse the temptation to guess.\n",
      "There should be one-- and preferably only one --obvious way to do it.\n",
      "Although that way may not be obvious at first unless you're Dutch.\n",
      "Now is better than never.\n",
      "Although never is often better than *right* now.\n",
      "If the implementation is hard to explain, it's a bad idea.\n",
      "If the implementation is easy to explain, it may be a good idea.\n",
      "Namespaces are one honking great idea -- let's do more of those!\n",
      "Whᶐt hαppéns now¿\n",
      "sitemap\n",
      "\n",
      "\n",
      "\n",
      "\n",
      "You've reached the end!\n",
      "Contact: Harrison@pythonprogramming.net.\n",
      "\n",
      "Support this Website!\n",
      "Hire me\n",
      "Facebook\n",
      "Twitter\n",
      "Google+\n",
      "\n",
      "\n",
      "\n",
      "Legal stuff:\n",
      "\n",
      "Terms and Conditions\n",
      "Privacy Policy\n",
      "\n",
      "\n",
      "\n",
      "\n",
      "\n",
      "            © OVER 9000! PythonProgramming.net\n",
      "\n",
      "            \n"
     ]
    }
   ],
   "source": [
    "for div in page_soup.find_all('div', class_='container'):\n",
    "    print (div.text)"
   ]
  },
  {
   "cell_type": "markdown",
   "metadata": {},
   "source": [
    "# ดึงเฉพาะตาราง"
   ]
  },
  {
   "cell_type": "code",
   "execution_count": 30,
   "metadata": {},
   "outputs": [
    {
     "name": "stdout",
     "output_type": "stream",
     "text": [
      "<table style=\"width:100%\">\n",
      "<tr>\n",
      "<th>Program Name</th>\n",
      "<th>Internet Points</th>\n",
      "<th>Kittens?</th>\n",
      "</tr>\n",
      "<tr>\n",
      "<td>Python</td>\n",
      "<td>932914021</td>\n",
      "<td>Definitely</td>\n",
      "</tr>\n",
      "<tr>\n",
      "<td>Pascal</td>\n",
      "<td>532</td>\n",
      "<td>Unlikely</td>\n",
      "</tr>\n",
      "<tr>\n",
      "<td>Lisp</td>\n",
      "<td>1522</td>\n",
      "<td>Uncertain</td>\n",
      "</tr>\n",
      "<tr>\n",
      "<td>D#</td>\n",
      "<td>12</td>\n",
      "<td>Possibly</td>\n",
      "</tr>\n",
      "<tr>\n",
      "<td>Cobol</td>\n",
      "<td>3</td>\n",
      "<td>No.</td>\n",
      "</tr>\n",
      "<tr>\n",
      "<td>Fortran</td>\n",
      "<td>52124</td>\n",
      "<td>Yes.</td>\n",
      "</tr>\n",
      "<tr>\n",
      "<td>Haskell</td>\n",
      "<td>24</td>\n",
      "<td>lol.</td>\n",
      "</tr>\n",
      "</table>\n"
     ]
    }
   ],
   "source": [
    "table = page_soup.find('table')\n",
    "print (table)"
   ]
  },
  {
   "cell_type": "markdown",
   "metadata": {},
   "source": [
    "ดึง tag tr ทั้งหมด ด้วย find_all('tr') และวนลูปหา td ทั้งหมดด้วย find_all('td') ดังนี้"
   ]
  },
  {
   "cell_type": "code",
   "execution_count": 34,
   "metadata": {},
   "outputs": [
    {
     "name": "stdout",
     "output_type": "stream",
     "text": [
      "Python\n",
      "932914021\n",
      "Definitely\n",
      "Pascal\n",
      "532\n",
      "Unlikely\n",
      "Lisp\n",
      "1522\n",
      "Uncertain\n",
      "D#\n",
      "12\n",
      "Possibly\n",
      "Cobol\n",
      "3\n",
      "No.\n",
      "Fortran\n",
      "52124\n",
      "Yes.\n",
      "Haskell\n",
      "24\n",
      "lol.\n"
     ]
    }
   ],
   "source": [
    "table_rows = table.find_all('tr')\n",
    "for tr in table_rows:\n",
    "    td = tr.find_all('td')\n",
    "    for i in td:\n",
    "        row = i.text\n",
    "        print (row)"
   ]
  },
  {
   "cell_type": "markdown",
   "metadata": {},
   "source": [
    "# การใช้ Pandas Dataframe"
   ]
  },
  {
   "cell_type": "markdown",
   "metadata": {},
   "source": [
    "import pandas เข้าตัวแปร pd และอ่าน source ที่มีโครงสร้างตาราง ระบุ header บรรทัดที่ 0 "
   ]
  },
  {
   "cell_type": "code",
   "execution_count": 37,
   "metadata": {},
   "outputs": [
    {
     "name": "stdout",
     "output_type": "stream",
     "text": [
      "  Program Name  Internet Points    Kittens?\n",
      "0       Python        932914021  Definitely\n",
      "1       Pascal              532    Unlikely\n",
      "2         Lisp             1522   Uncertain\n",
      "3           D#               12    Possibly\n",
      "4        Cobol                3         No.\n",
      "5      Fortran            52124        Yes.\n",
      "6      Haskell               24        lol.\n"
     ]
    }
   ],
   "source": [
    "import pandas as pd\n",
    "dfs = pd.read_html(source,header=0)\n",
    "for df in dfs:\n",
    "    print (df)\n"
   ]
  },
  {
   "cell_type": "markdown",
   "metadata": {},
   "source": [
    "# การดึงข้อมูลจาก xml"
   ]
  },
  {
   "cell_type": "code",
   "execution_count": 38,
   "metadata": {
    "collapsed": true
   },
   "outputs": [],
   "source": [
    "sourcexml = \"https://pythonprogramming.net/sitemap.xml\"\n",
    "uClient = uReq(sourcexml)\n",
    "page = uClient.read()\n",
    "uClient.close()\n",
    "xml_soup = soup(page, \"xml\")"
   ]
  },
  {
   "cell_type": "code",
   "execution_count": 40,
   "metadata": {},
   "outputs": [
    {
     "name": "stdout",
     "output_type": "stream",
     "text": [
      "[<loc>https://pythonprogramming.net/downloads/intraQuarter.zip/</loc>, <loc>https://pythonprogramming.net/downloads/knowledgeBase.db</loc>, <loc>https://pythonprogramming.net/downloads/key_stats.csv</loc>, <loc>https://pythonprogramming.net/downloads/style.zip</loc>, <loc>https://pythonprogramming.net/community/post/</loc>, <loc>https://pythonprogramming.net/about/privacy-policy/</loc>, <loc>https://pythonprogramming.net/store/python-hoodie/</loc>, <loc>https://pythonprogramming.net/about/super-powers/</loc>, <loc>https://pythonprogramming.net/about/technology/</loc>, <loc>https://pythonprogramming.net/about/tos/</loc>, <loc>https://pythonprogramming.net/user/change-password/</loc>, <loc>https://pythonprogramming.net/go/template-news-aggregator-go-language-programming-tutorial/</loc>, <loc>https://pythonprogramming.net/go/looping-sitemap-data-go-language-programming-tutorial/</loc>, <loc>https://pythonprogramming.net/go/channel-buffer-range-go-language-programming-tutorial/</loc>, <loc>https://pythonprogramming.net/go/concurrency-web-app-go-language-programming-tutorial/</loc>, <loc>https://pythonprogramming.net/go/pointer-receivers-go-language-programming-tutorial/</loc>, <loc>https://pythonprogramming.net/go/templating-webapp-go-language-programming-tutorial/</loc>, <loc>https://pythonprogramming.net/go/mapping-sitemap-go-language-programming-tutorial/</loc>, <loc>https://pythonprogramming.net/go/sync-goroutines-go-language-programming-tutorial/</loc>, <loc>https://pythonprogramming.net/go/panic-recover-go-language-programming-tutorial/</loc>, <loc>https://pythonprogramming.net/go/introduction-go-language-programming-tutorial/</loc>, <loc>https://pythonprogramming.net/go/more-web-dev-go-language-programming-tutorial/</loc>, <loc>https://pythonprogramming.net/go/parsing-xml-go-language-programming-tutorial/</loc>, <loc>https://pythonprogramming.net/go/goroutines-go-language-programming-tutorial/</loc>, <loc>https://pythonprogramming.net/go/pointers-go-language-programming-tutorial/</loc>, <loc>https://pythonprogramming.net/go/channels-go-language-programming-tutorial/</loc>, <loc>https://pythonprogramming.net/go/web-app-go-language-programming-tutorial/</loc>, <loc>https://pythonprogramming.net/go/structs-go-language-programming-tutorial/</loc>, <loc>https://pythonprogramming.net/go/methods-go-language-programming-tutorial/</loc>, <loc>https://pythonprogramming.net/go/parsing-go-language-programming-tutorial/</loc>, <loc>https://pythonprogramming.net/go/looping-go-language-programming-tutorial/</loc>, <loc>https://pythonprogramming.net/go/mapping-go-language-programming-tutorial/</loc>, <loc>https://pythonprogramming.net/go/syntax-go-language-programming-tutorial/</loc>, <loc>https://pythonprogramming.net/go/types-go-language-programming-tutorial/</loc>, <loc>https://pythonprogramming.net/go/defer-go-language-programming-tutorial/</loc>, <loc>https://pythonprogramming.net/deploying-model-deep-learning-halite-ii-artificial-intelligence-competition/</loc>, <loc>https://pythonprogramming.net/training-model-deep-learning-halite-ii-artificial-intelligence-competition/</loc>, <loc>https://pythonprogramming.net/scikit-learn-sklearn-machine-learning-data-analysis-python-pandas-tutorial/</loc>, <loc>https://pythonprogramming.net/quantopian-trading-strategies-introduction-python-programming-for-finance/</loc>, <loc>https://pythonprogramming.net/bidirectional-attention-mechanism-chatbot-deep-learning-python-tensorflow/</loc>, <loc>https://pythonprogramming.net/training-data-deep-learning-halite-ii-artificial-intelligence-competition/</loc>, <loc>https://pythonprogramming.net/interactive-interface-data-visualization-application-dash-python-tutorial/</loc>, <loc>https://pythonprogramming.net/combining-stock-prices-into-one-dataframe-python-programming-for-finance/</loc>, <loc>https://pythonprogramming.net/2D-Visualization-of-Pandas-data-with-Matplotlib-including-plotting-dates/</loc>, <loc>https://pythonprogramming.net/testing-custom-object-detector-tensorflow-object-detection-api-tutorial/</loc>, <loc>https://pythonprogramming.net/drawing-with-generative-model-python-playing-neural-network-tensorflow/</loc>, <loc>https://pythonprogramming.net/cnn-tensorflow-convolutional-nerual-network-machine-learning-tutorial/</loc>, <loc>https://pythonprogramming.net/object-oriented-programming-introduction-intermediate-python-tutorial/</loc>, <loc>https://pythonprogramming.net/inheritance-object-oriented-programming-intermediate-python-tutorial/</loc>, <loc>https://pythonprogramming.net/finding-more-alpha-factors-quantopian-python-programming-for-finance/</loc>, <loc>https://pythonprogramming.net/machine-learning-pattern-recognition-algorithmic-forex-stock-trading/</loc>, <loc>https://pythonprogramming.net/rolling-apply-mapping-functions-data-analysis-python-pandas-tutorial/</loc>, <loc>https://pythonprogramming.net/convolutional-neural-network-kats-vs-dogs-machine-learning-tutorial/</loc>, <loc>https://pythonprogramming.net/machine-learning-clustering-introduction-machine-learning-tutorial/</loc>, <loc>https://pythonprogramming.net/targets-for-machine-learning-labels-python-programming-for-finance/</loc>, <loc>https://pythonprogramming.net/preprocessing-for-machine-learning-python-programming-for-finance/</loc>, <loc>https://pythonprogramming.net/combining-alpha-factors-quantopian-python-programming-for-finance/</loc>, <loc>https://pythonprogramming.net/encryption-and-decryption-in-python-code-example-with-explanation/</loc>, <loc>https://pythonprogramming.net/r-squared-coefficient-of-determination-machine-learning-tutorial/</loc>, <loc>https://pythonprogramming.net/openai-cartpole-neural-network-example-machine-learning-tutorial/</loc>, <loc>https://pythonprogramming.net/custom-objects-tracking-tensorflow-object-detection-api-tutorial/</loc>, <loc>https://pythonprogramming.net/creating-tfrecord-files-tensorflow-object-detection-api-tutorial/</loc>, <loc>https://pythonprogramming.net/training-custom-objects-tensorflow-object-detection-api-tutorial/</loc>, <loc>https://pythonprogramming.net/self-driving-car-neural-network-training-data-python-plays-gta-v/</loc>, <loc>https://pythonprogramming.net/class-generator-testing-python-playing-neural-network-tensorflow/</loc>, <loc>https://pythonprogramming.net/portfolio-optimization-quantopian-python-programming-for-finance/</loc>, <loc>https://pythonprogramming.net/modify-starter-bot-halite-ii-artificial-intelligence-competition/</loc>, <loc>https://pythonprogramming.net/data-visualization-application-dash-python-tutorial-introduction/</loc>, <loc>https://pythonprogramming.net/more-list-comprehension-generators-intermediate-python-tutorial/</loc>, <loc>https://pythonprogramming.net/support-vector-machine-svm-example-tutorial-scikit-learn-python/</loc>, <loc>https://pythonprogramming.net/live-graphs-data-visualization-application-dash-python-tutorial/</loc>, <loc>https://pythonprogramming.net/percent-change-correlation-data-analysis-python-pandas-tutorial/</loc>, <loc>https://pythonprogramming.net/support-vector-machine-fundamentals-machine-learning-tutorial/</loc>, <loc>https://pythonprogramming.net/how-to-program-best-fit-line-slope-machine-learning-tutorial/</loc>, <loc>https://pythonprogramming.net/hierarchical-clustering-mean-shift-machine-learning-tutorial/</loc>, <loc>https://pythonprogramming.net/string-concatenation-formatting-intermediate-python-tutorial/</loc>, <loc>https://pythonprogramming.net/stock-price-correlation-table-python-programming-for-finance/</loc>, <loc>https://pythonprogramming.net/machine-learning-stock-prices-python-programming-for-finance/</loc>, <loc>https://pythonprogramming.net/hierarchical-clustering-machine-learning-python-scikit-learn/</loc>, <loc>https://pythonprogramming.net/python-programming-finance-machine-learning-classifier-sets/</loc>, <loc>https://pythonprogramming.net/support-vector-machine-parameters-machine-learning-tutorial/</loc>, <loc>https://pythonprogramming.net/tensorflow-neural-network-session-machine-learning-tutorial/</loc>, <loc>https://pythonprogramming.net/recurrent-neural-network-rnn-lstm-machine-learning-tutorial/</loc>, <loc>https://pythonprogramming.net/training-self-driving-car-neural-network-python-plays-gta-v/</loc>, <loc>https://pythonprogramming.net/handling-stock-data-graphing-python-programming-for-finance/</loc>, <loc>https://pythonprogramming.net/more-stock-data-manipulation-python-programming-for-finance/</loc>, <loc>https://pythonprogramming.net/schedule-function-quantopian-python-programming-for-finance/</loc>, <loc>https://pythonprogramming.net/javascript-dynamic-scraping-parsing-beautiful-soup-tutorial/</loc>, <loc>https://pythonprogramming.net/deep-learning-halite-ii-artificial-intelligence-competition/</loc>, <loc>https://pythonprogramming.net/dynamic-data-visualization-application-dash-python-tutorial/</loc>, <loc>https://pythonprogramming.net/vehicle-data-visualization-application-dash-python-tutorial/</loc>, <loc>https://pythonprogramming.net/dogs-vs-cats-convolutional-neural-network-tensorflow-kaggle/</loc>, <loc>https://pythonprogramming.net/convolutional-neural-network-cnn-machine-learning-tutorial/</loc>, <loc>https://pythonprogramming.net/testing-self-driving-car-neural-network-python-plays-gta-v/</loc>, <loc>https://pythonprogramming.net/list-comprehension-generators-intermediate-python-tutorial/</loc>, <loc>https://pythonprogramming.net/placing-an-order-quantopian-python-programming-for-finance/</loc>, <loc>https://pythonprogramming.net/quantopian-pyfolio-analysis-python-programming-for-finance/</loc>, <loc>https://pythonprogramming.net/introduction-halite-ii-artificial-intelligence-competition/</loc>, <loc>https://pythonprogramming.net/search-for-term-twitter-sentiment-analysis-gui-dash-python/</loc>, <loc>https://pythonprogramming.net/joining-mortgage-rate-data-analysis-python-pandas-tutorial/</loc>, <loc>https://pythonprogramming.net/k-nearest-neighbors-application-machine-learning-tutorial/</loc>, <loc>https://pythonprogramming.net/programming-k-nearest-neighbors-machine-learning-tutorial/</loc>, <loc>https://pythonprogramming.net/testing-our-k-nearest-neighbors-machine-learning-tutorial/</loc>, <loc>https://pythonprogramming.net/working-with-non-numerical-data-machine-learning-tutorial/</loc>, <loc>https://pythonprogramming.net/3d-convolutional-neural-network-machine-learning-tutorial/</loc>, <loc>https://pythonprogramming.net/introduction-use-tensorflow-object-detection-api-tutorial/</loc>, <loc>https://pythonprogramming.net/balancing-neural-network-training-data-python-plays-gta-v/</loc>, <loc>https://pythonprogramming.net/generative-model-python-playing-neural-network-tensorflow/</loc>, <loc>https://pythonprogramming.net/navigating-pages-scraping-parsing-beautiful-soup-tutorial/</loc>, <loc>https://pythonprogramming.net/sci-kit-learn-tutorials-machine-learning-python-investing/</loc>, <loc>https://pythonprogramming.net/building-database-chatbot-deep-learning-python-tensorflow/</loc>, <loc>https://pythonprogramming.net/comparison-operators-data-analysis-python-pandas-tutorial/</loc>, <loc>https://pythonprogramming.net/matplotlib-tutorial-part-5-subplots-multiple-plots-figure/</loc>, <loc>https://pythonprogramming.net/mean-shift-from-scratch-python-machine-learning-tutorial/</loc>, <loc>https://pythonprogramming.net/tensorflow-deep-neural-network-machine-learning-tutorial/</loc>, <loc>https://pythonprogramming.net/parsing-comments-python-reddit-api-wrapper-praw-tutorial/</loc>, <loc>https://pythonprogramming.net/values-from-multiprocessing-intermediate-python-tutorial/</loc>, <loc>https://pythonprogramming.net/creating-pygame-environment-intermediate-python-tutorial/</loc>, <loc>https://pythonprogramming.net/class-generator-python-playing-neural-network-tensorflow/</loc>, <loc>https://pythonprogramming.net/headlines-function-alexa-skill-flask-ask-python-tutorial/</loc>, <loc>https://pythonprogramming.net/scikit-learn-tutorials-machine-learning-python-investing/</loc>, <loc>https://pythonprogramming.net/training-dataset-chatbot-deep-learning-python-tensorflow/</loc>, <loc>https://pythonprogramming.net/soft-margin-kernel-cvxopt-svm-machine-learning-tutorial/</loc>, <loc>https://pythonprogramming.net/weighted-bandwidth-mean-shift-machine-learning-tutorial/</loc>, <loc>https://pythonprogramming.net/sp500-company-price-data-python-programming-for-finance/</loc>, <loc>https://pythonprogramming.net/testing-deploying-alexa-skill-flask-ask-python-tutorial/</loc>, <loc>https://pythonprogramming.net/sqlite-part-2-dynamically-inserting-database-timestamps/</loc>, <loc>https://pythonprogramming.net/custom-ai-halite-ii-artificial-intelligence-competition/</loc>, <loc>https://pythonprogramming.net/concatenate-append-data-analysis-python-pandas-tutorial/</loc>, <loc>https://pythonprogramming.net/rolling-statistics-data-analysis-python-pandas-tutorial/</loc>, <loc>https://pythonprogramming.net/graphing-matplotlib-python-part-3-colors-line-thickness/</loc>, <loc>https://pythonprogramming.net/python-programming-creating-automated-trading-strategy/</loc>, <loc>https://pythonprogramming.net/python-programming-finance-sentiment-analysis-shorting/</loc>, <loc>https://pythonprogramming.net/python-programming-finance-machine-learning-classifier/</loc>, <loc>https://pythonprogramming.net/how-to-program-best-fit-line-machine-learning-tutorial/</loc>, <loc>https://pythonprogramming.net/support-vector-machine-intro-machine-learning-tutorial/</loc>, <loc>https://pythonprogramming.net/special-methods-iteration-intermediate-python-tutorial/</loc>, <loc>https://pythonprogramming.net/stock-data-manipulation-python-programming-for-finance/</loc>, <loc>https://pythonprogramming.net/strategizing-quantopian-python-programming-for-finance/</loc>, <loc>https://pythonprogramming.net/data-structure-chatbot-deep-learning-python-tensorflow/</loc>, <loc>https://pythonprogramming.net/training-model-chatbot-deep-learning-python-tensorflow/</loc>, <loc>https://pythonprogramming.net/haar-cascade-face-eye-detection-python-opencv-tutorial/</loc>, <loc>https://pythonprogramming.net/python-programming-finance-machine-learning-framework/</loc>, <loc>https://pythonprogramming.net/svm-constraint-optimization-machine-learning-tutorial/</loc>, <loc>https://pythonprogramming.net/quantopian-backtesting-python-programming-for-finance/</loc>, <loc>https://pythonprogramming.net/introduction-scraping-parsing-beautiful-soup-tutorial/</loc>, <loc>https://pythonprogramming.net/live-graph-twitter-sentiment-analysis-gui-dash-python/</loc>, <loc>https://pythonprogramming.net/canny-edge-detection-gradients-python-opencv-tutorial/</loc>, <loc>https://pythonprogramming.net/economic-factors-data-analysis-python-pandas-tutorial/</loc>, <loc>https://pythonprogramming.net/coding-k-nearest-neighbors-machine-learning-tutorial/</loc>, <loc>https://pythonprogramming.net/mean-shift-titanic-dataset-machine-learning-tutorial/</loc>, <loc>https://pythonprogramming.net/using-our-own-data-tensorflow-deep-learning-tutorial/</loc>, <loc>https://pythonprogramming.net/introduction-python-reddit-api-wrapper-praw-tutorial/</loc>, <loc>https://pythonprogramming.net/class-object-modularity-intermediate-python-tutorial/</loc>, <loc>https://pythonprogramming.net/headless-error-handling-intermediate-python-tutorial/</loc>, <loc>https://pythonprogramming.net/insert-logic-chatbot-deep-learning-python-tensorflow/</loc>, <loc>https://pythonprogramming.net/flat-clustering-machine-learning-python-scikit-learn/</loc>, <loc>https://pythonprogramming.net/python-and-pandas-for-sentiment-analysis-and-finance/</loc>, <loc>https://pythonprogramming.net/grabcut-foreground-extraction-python-opencv-tutorial/</loc>, <loc>https://pythonprogramming.net/haar-cascade-object-detection-python-opencv-tutorial/</loc>, <loc>https://pythonprogramming.net/finance-programming-python-zipline-quantopian-intro/</loc>, <loc>https://pythonprogramming.net/python-programming-finance-understanding-hedgefunds/</loc>, <loc>https://pythonprogramming.net/python-programming-finance-testing-machine-learning/</loc>, <loc>https://pythonprogramming.net/k-nearest-neighbors-intro-machine-learning-tutorial/</loc>, <loc>https://pythonprogramming.net/support-vector-assertions-machine-learning-tutorial/</loc>, <loc>https://pythonprogramming.net/svm-optimization-python-2-machine-learning-tutorial/</loc>, <loc>https://pythonprogramming.net/data-size-example-tensorflow-deep-learning-tutorial/</loc>, <loc>https://pythonprogramming.net/multiprocessing-python-intermediate-python-tutorial/</loc>, <loc>https://pythonprogramming.net/multiprocessing-spider-intermediate-python-tutorial/</loc>, <loc>https://pythonprogramming.net/generating-python-playing-neural-network-tensorflow/</loc>, <loc>https://pythonprogramming.net/getting-stock-prices-python-programming-for-finance/</loc>, <loc>https://pythonprogramming.net/quantopian-alphalens-python-programming-for-finance/</loc>, <loc>https://pythonprogramming.net/tables-xml-scraping-parsing-beautiful-soup-tutorial/</loc>, <loc>https://pythonprogramming.net/interacting-chatbot-deep-learning-python-tensorflow/</loc>, <loc>https://pythonprogramming.net/plotting-live-bitcoin-price-data-tkinter-matplotlib/</loc>, <loc>https://pythonprogramming.net/morphological-transformation-python-opencv-tutorial/</loc>, <loc>https://pythonprogramming.net/nan-na-missing-data-analysis-python-pandas-tutorial/</loc>, <loc>https://pythonprogramming.net/simple-linear-regression-machine-learning-tutorial/</loc>, <loc>https://pythonprogramming.net/how-to-program-r-squared-machine-learning-tutorial/</loc>, <loc>https://pythonprogramming.net/reddit-bot-python-reddit-api-wrapper-praw-tutorial/</loc>, <loc>https://pythonprogramming.net/quantopian-research-python-programming-for-finance/</loc>, <loc>https://pythonprogramming.net/quantopian-pipeline-python-programming-for-finance/</loc>, <loc>https://pythonprogramming.net/statistics-python-3-module-mean-standard-deviation/</loc>, <loc>https://pythonprogramming.net/ibpy-tutorial-using-interactive-brokers-api-python/</loc>, <loc>https://pythonprogramming.net/thresholding-image-analysis-python-opencv-tutorial/</loc>, <loc>https://pythonprogramming.net/feature-matching-homography-python-opencv-tutorial/</loc>, <loc>https://pythonprogramming.net/robotics-raspberry-pi-tutorial-gopigo-introduction/</loc>, <loc>https://pythonprogramming.net/raspberry-pi-camera-opencv-face-detection-tutorial/</loc>, <loc>https://pythonprogramming.net/python-programming-finance-quantopian-csv-fetcher/</loc>, <loc>https://pythonprogramming.net/regression-introduction-machine-learning-tutorial/</loc>, <loc>https://pythonprogramming.net/svm-optimization-python-machine-learning-tutorial/</loc>, <loc>https://pythonprogramming.net/why-use-kernel-with-svm-machine-learning-tutorial/</loc>, <loc>https://pythonprogramming.net/k-means-titanic-dataset-machine-learning-tutorial/</loc>, <loc>https://pythonprogramming.net/tensorflow-introduction-machine-learning-tutorial/</loc>, <loc>https://pythonprogramming.net/how-to-cuda-gpu-tensorflow-deep-learning-tutorial/</loc>, <loc>https://pythonprogramming.net/streaming-python-reddit-api-wrapper-praw-tutorial/</loc>, <loc>https://pythonprogramming.net/finding-lanes-self-driving-car-python-plays-gta-v/</loc>, <loc>https://pythonprogramming.net/operator-overloading-intermediate-python-tutorial/</loc>, <loc>https://pythonprogramming.net/detecting-collisions-intermediate-python-tutorial/</loc>, <loc>https://pythonprogramming.net/sp500-company-list-python-programming-for-finance/</loc>, <loc>https://pythonprogramming.net/buffering-chatbot-deep-learning-python-tensorflow/</loc>, <loc>https://pythonprogramming.net/passing-functions-parameters-tkinter-using-lambda/</loc>, <loc>https://pythonprogramming.net/natural-language-toolkit-nltk-part-speech-tagging/</loc>, <loc>https://pythonprogramming.net/data-analysis-python-pandas-tutorial-introduction/</loc>, <loc>https://pythonprogramming.net/input-output-data-analysis-python-pandas-tutorial/</loc>, <loc>https://pythonprogramming.net/python-programming-finance-back-testing-strategy/</loc>, <loc>https://pythonprogramming.net/forecasting-predicting-machine-learning-tutorial/</loc>, <loc>https://pythonprogramming.net/k-means-from-scratch-2-machine-learning-tutorial/</loc>, <loc>https://pythonprogramming.net/more-interesting-self-driving-python-plays-gta-v/</loc>, <loc>https://pythonprogramming.net/tensorflow-object-detection-api-self-driving-car/</loc>, <loc>https://pythonprogramming.net/back-testing-machine-learning-investing-strategy/</loc>, <loc>https://pythonprogramming.net/basemap-coordinates-plotting-matplotlib-tutorial/</loc>, <loc>https://pythonprogramming.net/object-oriented-programming-crash-course-tkinter/</loc>, <loc>https://pythonprogramming.net/decorator-wrappers-flask-tutorial-login-required/</loc>, <loc>https://pythonprogramming.net/adding-color-graphs-python-matplotlib-tutorial-4/</loc>, <loc>https://pythonprogramming.net/installing-tensorflow-machine-learning-tutorial/</loc>, <loc>https://pythonprogramming.net/preprocessing-tensorflow-deep-learning-tutorial/</loc>, <loc>https://pythonprogramming.net/rnn-tensorflow-python-machine-learning-tutorial/</loc>, <loc>https://pythonprogramming.net/python-pickle-module-save-objects-serialization/</loc>, <loc>https://pythonprogramming.net/geographic-basemap-plotting-matplotlib-tutorial/</loc>, <loc>https://pythonprogramming.net/fundamental-investing-stock-screener-conclusion/</loc>, <loc>https://pythonprogramming.net/mog-background-reduction-python-opencv-tutorial/</loc>, <loc>https://pythonprogramming.net/join-merge-data-analysis-python-pandas-tutorial/</loc>, <loc>https://pythonprogramming.net/k-means-from-scratch-machine-learning-tutorial/</loc>, <loc>https://pythonprogramming.net/video-tensorflow-object-detection-api-tutorial/</loc>, <loc>https://pythonprogramming.net/many-blob-objects-intermediate-python-tutorial/</loc>, <loc>https://pythonprogramming.net/mnist-python-playing-neural-network-tensorflow/</loc>, <loc>https://pythonprogramming.net/parse-website-using-regular-expressions-urllib/</loc>, <loc>https://pythonprogramming.net/robot-remote-control-car-with-the-raspberry-pi/</loc>, <loc>https://pythonprogramming.net/opengl-rotating-cube-example-pyopengl-tutorial/</loc>, <loc>https://pythonprogramming.net/advanced-matplotlib-graphing-charting-tutorial/</loc>, <loc>https://pythonprogramming.net/sentiment-analysis-natural-language-processing/</loc>, <loc>https://pythonprogramming.net/image-arithmetics-logic-python-opencv-tutorial/</loc>, <loc>https://pythonprogramming.net/python-programming-finance-sentiment-analysis/</loc>, <loc>https://pythonprogramming.net/machine-learning-tutorial-python-introduction/</loc>, <loc>https://pythonprogramming.net/sample-data-testing-machine-learning-tutorial/</loc>, <loc>https://pythonprogramming.net/__str__-__repr__-intermediate-python-tutorial/</loc>, <loc>https://pythonprogramming.net/sql-database-python-part-1-inserting-database/</loc>, <loc>https://pythonprogramming.net/copying-backing-master-node-win32-disk-imager/</loc>, <loc>https://pythonprogramming.net/installing-testing-mpi4py-mpi-python-tutorial/</loc>, <loc>https://pythonprogramming.net/improving-infinite-3d-cubes-pyopengl-tutorial/</loc>, <loc>https://pythonprogramming.net/resample-data-analysis-python-pandas-tutorial/</loc>, <loc>https://pythonprogramming.net/python-programming-finance-shorting-strategy/</loc>, <loc>https://pythonprogramming.net/euclidean-distance-machine-learning-tutorial/</loc>, <loc>https://pythonprogramming.net/final-thoughts-knn-machine-learning-tutorial/</loc>, <loc>https://pythonprogramming.net/train-test-tensorflow-deep-learning-tutorial/</loc>, <loc>https://pythonprogramming.net/more-generators-intermediate-python-tutorial/</loc>, <loc>https://pythonprogramming.net/sending-receiving-messages-nodes-dynamically/</loc>, <loc>https://pythonprogramming.net/twitter-api-streaming-tweets-python-tutorial/</loc>, <loc>https://pythonprogramming.net/drop-down-button-window-styles-pyqt-tutorial/</loc>, <loc>https://pythonprogramming.net/subplot2grid-add_subplot-matplotlib-tutorial/</loc>, <loc>https://pythonprogramming.net/tkinter-depth-tutorial-making-actual-program/</loc>, <loc>https://pythonprogramming.net/named-entity-recognition-stanford-ner-tagger/</loc>, <loc>https://pythonprogramming.net/programming-autonomous-robot-gopigo-tutorial/</loc>, <loc>https://pythonprogramming.net/dataset-data-analysis-python-pandas-tutorial/</loc>, <loc>https://pythonprogramming.net/matplotlib-reading-information-file-plotting/</loc>, <loc>https://pythonprogramming.net/python-programming-finance-fundamental-data/</loc>, <loc>https://pythonprogramming.net/python-programming-finance-trade-sell-logic/</loc>, <loc>https://pythonprogramming.net/asyncio-basics-intermediate-python-tutorial/</loc>, <loc>https://pythonprogramming.net/intro-alexa-skill-flask-ask-python-tutorial/</loc>, <loc>https://pythonprogramming.net/function-parameter-defaults-python-3-basics/</loc>, <loc>https://pythonprogramming.net/regular-expressions-regex-tutorial-python-3/</loc>, <loc>https://pythonprogramming.net/conditional-statements-alongside-mpi-mpi4py/</loc>, <loc>https://pythonprogramming.net/pandas-column-manipulation-spreadsheet-data/</loc>, <loc>https://pythonprogramming.net/pandas-statistics-correlation-tables-how-to/</loc>, <loc>https://pythonprogramming.net/embedding-live-matplotlib-graph-tkinter-gui/</loc>, <loc>https://pythonprogramming.net/combine-classifier-algorithms-nltk-tutorial/</loc>, <loc>https://pythonprogramming.net/basics-data-analysis-python-pandas-tutorial/</loc>, <loc>https://pythonprogramming.net/pickle-data-analysis-python-pandas-tutorial/</loc>, <loc>https://pythonprogramming.net/training-testing-machine-learning-tutorial/</loc>, <loc>https://pythonprogramming.net/pickling-scaling-machine-learning-tutorial/</loc>, <loc>https://pythonprogramming.net/kernels-with-svm-machine-learning-tutorial/</loc>, <loc>https://pythonprogramming.net/natural-language-api-google-cloud-tutorial/</loc>, <loc>https://pythonprogramming.net/terminal-navigation-raspberry-pi-tutorials/</loc>, <loc>https://pythonprogramming.net/lane-region-of-interest-python-plays-gta-v/</loc>, <loc>https://pythonprogramming.net/download-and-install-mpi-for-supercomputer/</loc>, <loc>https://pythonprogramming.net/mysql-live-database-example-streaming-data/</loc>, <loc>https://pythonprogramming.net/getting-data-sp-500-index-value-comparison/</loc>, <loc>https://pythonprogramming.net/linear-svc-example-scikit-learn-svm-python/</loc>, <loc>https://pythonprogramming.net/raising-investment-suggestion-requirements/</loc>, <loc>https://pythonprogramming.net/adding-js-plugins-flask-highcharts-example/</loc>, <loc>https://pythonprogramming.net/infinite-3d-pyopengl-flying-cubes-tutorial/</loc>, <loc>https://pythonprogramming.net/converting-date-stamps-matplotlib-tutorial/</loc>, <loc>https://pythonprogramming.net/candlestick-ohlc-graph-matplotlib-tutorial/</loc>, <loc>https://pythonprogramming.net/last-price-stock-chart-matplotlib-tutorial/</loc>, <loc>https://pythonprogramming.net/graph-live-twitter-sentiment-nltk-tutorial/</loc>, <loc>https://pythonprogramming.net/incorporating-graphing-into-stock-screener/</loc>, <loc>https://pythonprogramming.net/twitter-sentiment-analysis-gui-dash-python/</loc>, <loc>https://pythonprogramming.net/flask-connect-mysql-using-mysqldb-tutorial/</loc>, <loc>https://pythonprogramming.net/features-labels-machine-learning-tutorial/</loc>, <loc>https://pythonprogramming.net/predictions-svm-machine-learning-tutorial/</loc>, <loc>https://pythonprogramming.net/soft-margin-svm-machine-learning-tutorial/</loc>, <loc>https://pythonprogramming.net/neural-networks-machine-learning-tutorial/</loc>, <loc>https://pythonprogramming.net/introduction-intermediate-python-tutorial/</loc>, <loc>https://pythonprogramming.net/argparse-cli-intermediate-python-tutorial/</loc>, <loc>https://pythonprogramming.net/converting-python-scripts-exe-executables/</loc>, <loc>https://pythonprogramming.net/installing-supercomputer-operating-system/</loc>, <loc>https://pythonprogramming.net/use-twitter-api-v1-1-python-stream-tweets/</loc>, <loc>https://pythonprogramming.net/average-outcomes-as-predictions-forex-hft/</loc>, <loc>https://pythonprogramming.net/legends-titles-labels-matplotlib-tutorial/</loc>, <loc>https://pythonprogramming.net/implementing-subplots-matplotlib-tutorial/</loc>, <loc>https://pythonprogramming.net/basemap-customization-matplotlib-tutorial/</loc>, <loc>https://pythonprogramming.net/how-to-embed-matplotlib-graph-tkinter-gui/</loc>, <loc>https://pythonprogramming.net/testing-stanford-ner-taggers-for-accuracy/</loc>, <loc>https://pythonprogramming.net/flask-get-post-requests-handling-tutorial/</loc>, <loc>https://pythonprogramming.net/dynamic-user-based-content-flask-tutorial/</loc>, <loc>https://pythonprogramming.net/blurring-smoothing-python-opencv-tutorial/</loc>, <loc>https://pythonprogramming.net/database-migration-django-python-tutorial/</loc>, <loc>https://pythonprogramming.net/supplies-needed-raspberry-pi-gopigo-robot/</loc>, <loc>https://pythonprogramming.net/remote-control-robot-programming-tutorial/</loc>, <loc>https://pythonprogramming.net/python-programming-finance-paper-trading/</loc>, <loc>https://pythonprogramming.net/args-kwargs-intermediate-python-tutorial/</loc>, <loc>https://pythonprogramming.net/tkinter-python-3-tutorial-adding-buttons/</loc>, <loc>https://pythonprogramming.net/tkinter-tutorial-python-3-event-handling/</loc>, <loc>https://pythonprogramming.net/linear-svc-machine-learning-testing-data/</loc>, <loc>https://pythonprogramming.net/streaming-video-from-raspberry-pi-camera/</loc>, <loc>https://pythonprogramming.net/low-latency-video-streaming-raspberry-pi/</loc>, <loc>https://pythonprogramming.net/coloring-pyopengl-surfaces-python-opengl/</loc>, <loc>https://pythonprogramming.net/converting-tkinter-to-exe-with-cx-freeze/</loc>, <loc>https://pythonprogramming.net/tokenizing-words-sentences-nltk-tutorial/</loc>, <loc>https://pythonprogramming.net/twitter-sentiment-analysis-nltk-tutorial/</loc>, <loc>https://pythonprogramming.net/using-bio-tags-create-named-entity-lists/</loc>, <loc>https://pythonprogramming.net/sentiment-analysis-python-textblob-vader/</loc>, <loc>https://pythonprogramming.net/twitter-stream-sentiment-analysis-python/</loc>, <loc>https://pythonprogramming.net/creating-dice-roll-monte-carlo-simulator/</loc>, <loc>https://pythonprogramming.net/template-matching-python-opencv-tutorial/</loc>, <loc>https://pythonprogramming.net/django-web-development-with-python-intro/</loc>, <loc>https://pythonprogramming.net/django-web-server-https-lets-encrypt-ssl/</loc>, <loc>https://pythonprogramming.net/python-programming-finance-back-testing/</loc>, <loc>https://pythonprogramming.net/vector-basics-machine-learning-tutorial/</loc>, <loc>https://pythonprogramming.net/svm-in-python-machine-learning-tutorial/</loc>, <loc>https://pythonprogramming.net/garage-stoplight-raspberry-pi-tutorials/</loc>, <loc>https://pythonprogramming.net/decorators-intermediate-python-tutorial/</loc>, <loc>https://pythonprogramming.net/handling-exceptions-try-except-python-3/</loc>, <loc>https://pythonprogramming.net/current-yahoo-data-for-machine-learning/</loc>, <loc>https://pythonprogramming.net/investment-suggestions-machine-learning/</loc>, <loc>https://pythonprogramming.net/pygame-tutorial-moving-images-key-input/</loc>, <loc>https://pythonprogramming.net/chatbot-deep-learning-python-tensorflow/</loc>, <loc>https://pythonprogramming.net/basemap-python-plotting-tutorial-part-4/</loc>, <loc>https://pythonprogramming.net/basemap-python-plotting-tutorial-part-5/</loc>, <loc>https://pythonprogramming.net/drawing-application-with-screen-manager/</loc>, <loc>https://pythonprogramming.net/bar-chart-histogram-matplotlib-tutorial/</loc>, <loc>https://pythonprogramming.net/basic-customization-matplotlib-tutorial/</loc>, <loc>https://pythonprogramming.net/more-indicator-data-matplotlib-tutorial/</loc>, <loc>https://pythonprogramming.net/share-x-axis-sharex-matplotlib-tutorial/</loc>, <loc>https://pythonprogramming.net/introduction-and-basics-cython-tutorial/</loc>, <loc>https://pythonprogramming.net/sentiment-analysis-module-nltk-tutorial/</loc>, <loc>https://pythonprogramming.net/image-operations-python-opencv-tutorial/</loc>, <loc>https://pythonprogramming.net/corner-detection-python-opencv-tutorial/</loc>, <loc>https://pythonprogramming.net/design-bootstrap-django-python-tutorial/</loc>, <loc>https://pythonprogramming.net/plotting-sql-database-python-matplotlib/</loc>, <loc>https://pythonprogramming.net/vision-api-intro-google-cloud-tutorial/</loc>, <loc>https://pythonprogramming.net/vision-api-contd-google-cloud-tutorial/</loc>, <loc>https://pythonprogramming.net/game-frames-open-cv-python-plays-gta-v/</loc>, <loc>https://pythonprogramming.net/enumerate-intermediate-python-tutorial/</loc>, <loc>https://pythonprogramming.net/python-tutorial-print-function-strings/</loc>, <loc>https://pythonprogramming.net/math-basics-python-3-beginner-tutorial/</loc>, <loc>https://pythonprogramming.net/module-import-syntax-python-3-tutorial/</loc>, <loc>https://pythonprogramming.net/sending-receiving-data-messages-mpi4py/</loc>, <loc>https://pythonprogramming.net/tagging-messages-mpi-multiple-messages/</loc>, <loc>https://pythonprogramming.net/streamlining-changing-machine-learning/</loc>, <loc>https://pythonprogramming.net/pygame-buttons-part-1-button-rectangle/</loc>, <loc>https://pythonprogramming.net/converting-pygame-executable-cx_freeze/</loc>, <loc>https://pythonprogramming.net/opengl-pyopengl-python-pygame-tutorial/</loc>, <loc>https://pythonprogramming.net/random-cube-position-pyopengl-tutorial/</loc>, <loc>https://pythonprogramming.net/python-matplotlib-live-updating-graphs/</loc>, <loc>https://pythonprogramming.net/geographical-plotting-basemap-tutorial/</loc>, <loc>https://pythonprogramming.net/map-plotting-basemap-matplotlib-part-2/</loc>, <loc>https://pythonprogramming.net/multi-y-axis-twinx-matplotlib-tutorial/</loc>, <loc>https://pythonprogramming.net/named-entity-recognition-nltk-tutorial/</loc>, <loc>https://pythonprogramming.net/testing-stanford-ner-taggers-for-speed/</loc>, <loc>https://pythonprogramming.net/drawing-writing-python-opencv-tutorial/</loc>, <loc>https://pythonprogramming.net/jinja-templates-django-python-tutorial/</loc>, <loc>https://pythonprogramming.net/jinja-variables-django-python-tutorial/</loc>, <loc>https://pythonprogramming.net/views-templates-django-python-tutorial/</loc>, <loc>https://pythonprogramming.net/virtual-machine-google-cloud-tutorial/</loc>, <loc>https://pythonprogramming.net/translation-api-google-cloud-tutorial/</loc>, <loc>https://pythonprogramming.net/beginner-python-programming-tutorials/</loc>, <loc>https://pythonprogramming.net/if-statement-python-3-basics-tutorial/</loc>, <loc>https://pythonprogramming.net/horizonal-bar-chart-python-matplotlib/</loc>, <loc>https://pythonprogramming.net/sqlite-part-3-reading-database-python/</loc>, <loc>https://pythonprogramming.net/learning-use-mpi-python-mpi4py-module/</loc>, <loc>https://pythonprogramming.net/basic-mpi4py-script-getting-node-rank/</loc>, <loc>https://pythonprogramming.net/machine-learning-python-sklearn-intro/</loc>, <loc>https://pythonprogramming.net/parsing-data-website-machine-learning/</loc>, <loc>https://pythonprogramming.net/labeling-data-machine-learning-part-2/</loc>, <loc>https://pythonprogramming.net/pandas-column-operations-calculations/</loc>, <loc>https://pythonprogramming.net/modifying-data-granularity-matplotlib/</loc>, <loc>https://pythonprogramming.net/kivy-application-development-tutorial/</loc>, <loc>https://pythonprogramming.net/loading-file-data-matplotlib-tutorial/</loc>, <loc>https://pythonprogramming.net/flask-user-registration-form-tutorial/</loc>, <loc>https://pythonprogramming.net/loading-images-python-opencv-tutorial/</loc>, <loc>https://pythonprogramming.net/usb-foam-cannon-robot-gopigo-tutorial/</loc>, <loc>https://pythonprogramming.net/python-programming-finance-stop-loss/</loc>, <loc>https://pythonprogramming.net/remote-access-raspberry-pi-tutorials/</loc>, <loc>https://pythonprogramming.net/camera-module-raspberry-pi-tutorials/</loc>, <loc>https://pythonprogramming.net/direct-input-game-python-plays-gta-v/</loc>, <loc>https://pythonprogramming.net/detecting-distances-self-driving-car/</loc>, <loc>https://pythonprogramming.net/acquiring-vehicle-python-plays-gta-v/</loc>, <loc>https://pythonprogramming.net/logging-intermediate-python-tutorial/</loc>, <loc>https://pythonprogramming.net/using-pip-install-for-python-modules/</loc>, <loc>https://pythonprogramming.net/collecting-features-machine-learning/</loc>, <loc>https://pythonprogramming.net/building-yahoo-data-machine-learning/</loc>, <loc>https://pythonprogramming.net/testing-visualization-and-conclusion/</loc>, <loc>https://pythonprogramming.net/getting-mouse-press-touch-input-kivy/</loc>, <loc>https://pythonprogramming.net/annotations-text-matplotlib-tutorial/</loc>, <loc>https://pythonprogramming.net/customizing-tkinter-matplotlib-graph/</loc>, <loc>https://pythonprogramming.net/graphing-ohlc-candlestick-in-tkinter/</loc>, <loc>https://pythonprogramming.net/named-entity-recognition-nltk-python/</loc>, <loc>https://pythonprogramming.net/part-of-speech-tagging-nltk-tutorial/</loc>, <loc>https://pythonprogramming.net/naive-bayes-classifier-nltk-tutorial/</loc>, <loc>https://pythonprogramming.net/pickle-classifier-save-nltk-tutorial/</loc>, <loc>https://pythonprogramming.net/ssl-https-letsencrypt-flask-tutorial/</loc>, <loc>https://pythonprogramming.net/loading-video-python-opencv-tutorial/</loc>, <loc>https://pythonprogramming.net/finished-blog-django-python-tutorial/</loc>, <loc>https://pythonprogramming.net/quadcopter-flight-and-legal-tutorial/</loc>, <loc>https://pythonprogramming.net/python-programming-finance-leverage/</loc>, <loc>https://pythonprogramming.net/introduction-raspberry-pi-tutorials/</loc>, <loc>https://pythonprogramming.net/self-driving-car-python-plays-gta-v/</loc>, <loc>https://pythonprogramming.net/timeit-intermediate-python-tutorial/</loc>, <loc>https://pythonprogramming.net/function-parameters-python-3-basics/</loc>, <loc>https://pythonprogramming.net/frequently-asked-questions-python-3/</loc>, <loc>https://pythonprogramming.net/matplotlib-python-3-basics-tutorial/</loc>, <loc>https://pythonprogramming.net/using-pandas-structure-process-data/</loc>, <loc>https://pythonprogramming.net/improving-analysis-machine-learning/</loc>, <loc>https://pythonprogramming.net/forward-reverse-motors-raspberry-pi/</loc>, <loc>https://pythonprogramming.net/testing-autonomous-raspberry-pi-car/</loc>, <loc>https://pythonprogramming.net/adding-boundaries-pygame-video-game/</loc>, <loc>https://pythonprogramming.net/automated-image-thresholding-python/</loc>, <loc>https://pythonprogramming.net/application-structure-pyqt-tutorial/</loc>, <loc>https://pythonprogramming.net/matplotlib-python-3-basics-tutorial/</loc>, <loc>https://pythonprogramming.net/3d-scatter-plot-matplotlib-tutorial/</loc>, <loc>https://pythonprogramming.net/new-data-set-training-nltk-tutorial/</loc>, <loc>https://pythonprogramming.net/color-filter-python-opencv-tutorial/</loc>, <loc>https://pythonprogramming.net/quadcopter-esc-calibration-tutorial/</loc>, <loc>https://pythonprogramming.net/finding-vehicle-python-plays-gta-v/</loc>, <loc>https://pythonprogramming.net/introduction-to-python-programming</loc>, <loc>https://pythonprogramming.net/introduction-to-python-programming/</loc>, <loc>https://pythonprogramming.net/functions-python-3-basics-tutorial/</loc>, <loc>https://pythonprogramming.net/converting-python2-to-python3-2to3/</loc>, <loc>https://pythonprogramming.net/scatter-gather-mpi-mpi4py-tutorial/</loc>, <loc>https://pythonprogramming.net/average-outcomes-as-predictions-p2/</loc>, <loc>https://pythonprogramming.net/flask-web-development-introduction/</loc>, <loc>https://pythonprogramming.net/matplotlib-3d-scatterplot-tutorial/</loc>, <loc>https://pythonprogramming.net/custom-legends-matplotlib-tutorial/</loc>, <loc>https://pythonprogramming.net/embed-matplotlib-graph-tkinter-gui/</loc>, <loc>https://pythonprogramming.net/sklearn-scikit-learn-nltk-tutorial/</loc>, <loc>https://pythonprogramming.net/graphing-finance-data-fundamentals/</loc>, <loc>https://pythonprogramming.net/deploy-vps-dash-data-visualization/</loc>, <loc>https://pythonprogramming.net/mysql-database-with-flask-tutorial/</loc>, <loc>https://pythonprogramming.net/django-web-server-publish-tutorial/</loc>, <loc>https://pythonprogramming.net/building-quadcopter-tutorial-intro/</loc>, <loc>https://pythonprogramming.net/tflearn-machine-learning-tutorial/</loc>, <loc>https://pythonprogramming.net/gpio-input-raspberry-pi-tutorials/</loc>, <loc>https://pythonprogramming.net/open-cv-basics-python-plays-gta-v/</loc>, <loc>https://pythonprogramming.net/data-acquisition-machine-learning/</loc>, <loc>https://pythonprogramming.net/machine-learning-testing-new-algo/</loc>, <loc>https://pythonprogramming.net/past-pattern-outcomes-predictions/</loc>, <loc>https://pythonprogramming.net/making-interactive-pygame-buttons/</loc>, <loc>https://pythonprogramming.net/color-picker-widget-pyqt-tutorial/</loc>, <loc>https://pythonprogramming.net/kivy-drawing-application-tutorial/</loc>, <loc>https://pythonprogramming.net/internet-data-matplotlib-tutorial/</loc>, <loc>https://pythonprogramming.net/getting-macd-data-for-tkinter-gui/</loc>, <loc>https://pythonprogramming.net/text-classification-nltk-tutorial/</loc>, <loc>https://pythonprogramming.net/preparing-figure-for-finance-data/</loc>, <loc>https://pythonprogramming.net/mapping-function-pandas-sentiment/</loc>, <loc>https://pythonprogramming.net/flask-user-log-in-system-tutorial/</loc>, <loc>https://pythonprogramming.net/first-site-django-python-tutorial/</loc>, <loc>https://pythonprogramming.net/robot-programming-basics-tutorial/</loc>, <loc>https://pythonprogramming.net/quantopian-pipeline-api-tutorial/</loc>, <loc>https://pythonprogramming.net/zip-intermediate-python-tutorial/</loc>, <loc>https://pythonprogramming.net/appending-file-python-3-tutorial/</loc>, <loc>https://pythonprogramming.net/classes-python-3-basics-tutorial/</loc>, <loc>https://pythonprogramming.net/python-3-tkinter-basics-tutorial/</loc>, <loc>https://pythonprogramming.net/customizing-bar-chart-matplotlib/</loc>, <loc>https://pythonprogramming.net/python-binding-listening-sockets/</loc>, <loc>https://pythonprogramming.net/build-supercomputer-raspberry-pi/</loc>, <loc>https://pythonprogramming.net/mpi-gather-command-mpi4py-python/</loc>, <loc>https://pythonprogramming.net/machine-learning-testing-with-na/</loc>, <loc>https://pythonprogramming.net/running-gpio-python-raspberry-pi/</loc>, <loc>https://pythonprogramming.net/raspberry-pi-car-distance-sensor/</loc>, <loc>https://pythonprogramming.net/raspberry-pi-hc-sr04-programming/</loc>, <loc>https://pythonprogramming.net/font-picker-widget-pyqt-tutorial/</loc>, <loc>https://pythonprogramming.net/scatter-plot-matplotlib-tutorial/</loc>, <loc>https://pythonprogramming.net/colors-fills-matplotlib-tutorial/</loc>, <loc>https://pythonprogramming.net/spines-hline-matplotlib-tutorial/</loc>, <loc>https://pythonprogramming.net/fill-pruning-matplotlib-tutorial/</loc>, <loc>https://pythonprogramming.net/3d-bar-chart-matplotlib-tutorial/</loc>, <loc>https://pythonprogramming.net/getting-rsi-data-for-tkinter-gui/</loc>, <loc>https://pythonprogramming.net/compiling-russell-3000-tickers-2/</loc>, <loc>https://pythonprogramming.net/snooping-best-dalembert-multiple/</loc>, <loc>https://pythonprogramming.net/python-3-multi-dimensional-list/</loc>, <loc>https://pythonprogramming.net/predicting-outcomes-of-patterns/</loc>, <loc>https://pythonprogramming.net/gpio-motor-control-raspberry-pi/</loc>, <loc>https://pythonprogramming.net/raspberry-pi-car-remote-control/</loc>, <loc>https://pythonprogramming.net/pygame-python-3-tutorial-series/</loc>, <loc>https://pythonprogramming.net/drawing-objects-pygame-tutorial/</loc>, <loc>https://pythonprogramming.net/basic-image-recognition-testing/</loc>, <loc>https://pythonprogramming.net/adding-ground-pyopengl-tutorial/</loc>, <loc>https://pythonprogramming.net/python-2-7-pandas-data-analysis/</loc>, <loc>https://pythonprogramming.net/3d-bar-charts-python-matplotlib/</loc>, <loc>https://pythonprogramming.net/live-graphs-matplotlib-tutorial/</loc>, <loc>https://pythonprogramming.net/learning-for-sentiment-analysis/</loc>, <loc>https://pythonprogramming.net/words-as-features-nltk-tutorial/</loc>, <loc>https://pythonprogramming.net/completing-basic-stock-screener/</loc>, <loc>https://pythonprogramming.net/plotting-monte-carlo-matplotlib/</loc>, <loc>https://pythonprogramming.net/two-dimension-graph-monte-carlo/</loc>, <loc>https://pythonprogramming.net/bootstrap-jinja-templates-flask/</loc>, <loc>https://pythonprogramming.net/flask-content-management-basics/</loc>, <loc>https://pythonprogramming.net/password-hashing-flask-tutorial/</loc>, <loc>https://pythonprogramming.net/hough-lines-python-plays-gta-v/</loc>, <loc>https://pythonprogramming.net/reading-file-python-3-tutorial/</loc>, <loc>https://pythonprogramming.net/dictionaries-tutorial-python-3/</loc>, <loc>https://pythonprogramming.net/labeling-data-machine-learning/</loc>, <loc>https://pythonprogramming.net/preprocessing-machine-learning/</loc>, <loc>https://pythonprogramming.net/connecting-motors-raspberry-pi/</loc>, <loc>https://pythonprogramming.net/adding-score-pygame-video-game/</loc>, <loc>https://pythonprogramming.net/flask-web-development-tutorial/</loc>, <loc>https://pythonprogramming.net/templates-flask-variables-html/</loc>, <loc>https://pythonprogramming.net/button-functions-pyqt-tutorial/</loc>, <loc>https://pythonprogramming.net/pandas-saving-reading-csv-file/</loc>, <loc>https://pythonprogramming.net/python-function-mapping-pandas/</loc>, <loc>https://pythonprogramming.net/dynamic-kivy-content-placement/</loc>, <loc>https://pythonprogramming.net/stack-plot-matplotlib-tutorial/</loc>, <loc>https://pythonprogramming.net/conclusion-matplotlib-tutorial/</loc>, <loc>https://pythonprogramming.net/time-frame-sample-size-options/</loc>, <loc>https://pythonprogramming.net/create-a-stock-screener-python/</loc>, <loc>https://pythonprogramming.net/compiling-russell-3000-tickers/</loc>, <loc>https://pythonprogramming.net/finishing-fundamental-graphing/</loc>, <loc>https://pythonprogramming.net/fixing-debt-issues-monte-carlo/</loc>, <loc>https://pythonprogramming.net/flask-content-management-contd/</loc>, <loc>https://pythonprogramming.net/flask-protected-files-tutorial/</loc>, <loc>https://pythonprogramming.net/next-steps-python-plays-gta-v/</loc>, <loc>https://pythonprogramming.net/loop-python-3-basics-tutorial/</loc>, <loc>https://pythonprogramming.net/common-errors-python-3-basics/</loc>, <loc>https://pythonprogramming.net/matplotlib-basics-first-graph/</loc>, <loc>https://pythonprogramming.net/graphing-from-sqlite-database/</loc>, <loc>https://pythonprogramming.net/sqlite-update-delete-tutorial/</loc>, <loc>https://pythonprogramming.net/mpi-broadcast-tutorial-mpi4py/</loc>, <loc>https://pythonprogramming.net/getting-data-machine-learning/</loc>, <loc>https://pythonprogramming.net/forex-algo-pattern-rec-basics/</loc>, <loc>https://pythonprogramming.net/increasing-pattern-complexity/</loc>, <loc>https://pythonprogramming.net/displaying-our-forex-patterns/</loc>, <loc>https://pythonprogramming.net/user-control-raspberry-pi-car/</loc>, <loc>https://pythonprogramming.net/displaying-text-pygame-screen/</loc>, <loc>https://pythonprogramming.net/pygame-drawing-shapes-objects/</loc>, <loc>https://pythonprogramming.net/pygame-button-function-events/</loc>, <loc>https://pythonprogramming.net/pop-up-messages-pyqt-tutorial/</loc>, <loc>https://pythonprogramming.net/python-web-development-django/</loc>, <loc>https://pythonprogramming.net/3d-graphing-pandas-matplotlib/</loc>, <loc>https://pythonprogramming.net/3d-graphing-python-matplotlib/</loc>, <loc>https://pythonprogramming.net/pie-chart-matplotlib-tutorial/</loc>, <loc>https://pythonprogramming.net/unix-time-matplotlib-tutorial/</loc>, <loc>https://pythonprogramming.net/3d-graphs-matplotlib-tutorial/</loc>, <loc>https://pythonprogramming.net/change-show-new-frame-tkinter/</loc>, <loc>https://pythonprogramming.net/tutorial-for-tkinter-tutorial/</loc>, <loc>https://pythonprogramming.net/more-named-entity-recognition/</loc>, <loc>https://pythonprogramming.net/back-testing-basics-sentiment/</loc>, <loc>https://pythonprogramming.net/bettor-statistics-monte-carlo/</loc>, <loc>https://pythonprogramming.net/analyzing-monte-carlo-results/</loc>, <loc>https://pythonprogramming.net/jinja-template-flask-tutorial/</loc>, <loc>https://pythonprogramming.net/flask-url-converters-tutorial/</loc>, <loc>https://pythonprogramming.net/python-fundamental-tutorials/</loc>, <loc>https://pythonprogramming.net/python-programming-tutorials/</loc>, <loc>https://pythonprogramming.net/quantopian-pipeline-strategy/</loc>, <loc>https://pythonprogramming.net/writing-file-python-3-basics/</loc>, <loc>https://pythonprogramming.net/user-input-python-3-tutorial/</loc>, <loc>https://pythonprogramming.net/multi-line-printing-python-3/</loc>, <loc>https://pythonprogramming.net/python-3-subprocess-tutorial/</loc>, <loc>https://pythonprogramming.net/python-threaded-port-scanner/</loc>, <loc>https://pythonprogramming.net/client-server-python-sockets/</loc>, <loc>https://pythonprogramming.net/pygame-python-3-part-1-intro/</loc>, <loc>https://pythonprogramming.net/creating-first-flask-web-app/</loc>, <loc>https://pythonprogramming.net/thresholding-python-function/</loc>, <loc>https://pythonprogramming.net/moving-towards-pyopengl-cube/</loc>, <loc>https://pythonprogramming.net/plotting-maps-python-basemap/</loc>, <loc>https://pythonprogramming.net/kivy-screen-manager-tutorial/</loc>, <loc>https://pythonprogramming.net/tkinter-popup-message-window/</loc>, <loc>https://pythonprogramming.net/adding-indicator-choice-menu/</loc>, <loc>https://pythonprogramming.net/nltk-corpus-corpora-tutorial/</loc>, <loc>https://pythonprogramming.net/python-fundamental-investing/</loc>, <loc>https://pythonprogramming.net/monte-carlo-simulator-python/</loc>, <loc>https://pythonprogramming.net/practical-flask-introduction/</loc>, <loc>https://pythonprogramming.net/basic-flask-website-tutorial/</loc>, <loc>https://pythonprogramming.net/flask-user-register-tutorial/</loc>, <loc>https://pythonprogramming.net/admin-django-python-tutorial/</loc>, <loc>https://pythonprogramming.net/quadcopter-assembly-tutorial/</loc>, <loc>https://pythonprogramming.net/googled4c03d669c9855ca.html</loc>, <loc>https://pythonprogramming.net/data-analysis-tutorials-dev/</loc>, <loc>https://pythonprogramming.net/gpio-raspberry-pi-tutorials/</loc>, <loc>https://pythonprogramming.net/python-3-variables-tutorial/</loc>, <loc>https://pythonprogramming.net/elif-else-python-3-tutorial/</loc>, <loc>https://pythonprogramming.net/installing-modules-python-3/</loc>, <loc>https://pythonprogramming.net/ftp-transfers-python-ftplib/</loc>, <loc>https://pythonprogramming.net/python-port-scanner-sockets/</loc>, <loc>https://pythonprogramming.net/label-data-machine-learning/</loc>, <loc>https://pythonprogramming.net/pattern-recognition-dataset/</loc>, <loc>https://pythonprogramming.net/finding-forex-algo-patterns/</loc>, <loc>https://pythonprogramming.net/recognizing-current-pattern/</loc>, <loc>https://pythonprogramming.net/variables-in-forex-patterns/</loc>, <loc>https://pythonprogramming.net/gpio-raspberry-pi-car-intro/</loc>, <loc>https://pythonprogramming.net/autonomous-raspberry-pi-car/</loc>, <loc>https://pythonprogramming.net/placing-text-pygame-buttons/</loc>, <loc>https://pythonprogramming.net/python-pandas-data-analysis/</loc>, <loc>https://pythonprogramming.net/3d-scatter-plot-customizing/</loc>, <loc>https://pythonprogramming.net/kivy-application-navigation/</loc>, <loc>https://pythonprogramming.net/adding-tkinter-menu-options/</loc>, <loc>https://pythonprogramming.net/subplots-within-tkinter-gui/</loc>, <loc>https://pythonprogramming.net/building-nlp-knowledge-base/</loc>, <loc>https://pythonprogramming.net/investigating-nltk-tutorial/</loc>, <loc>https://pythonprogramming.net/removing-outliers-sentiment/</loc>, <loc>https://pythonprogramming.net/more-monte-carlo-comparison/</loc>, <loc>https://pythonprogramming.net/flask-homepage-improvements/</loc>, <loc>https://pythonprogramming.net/flask-error-handling-basics/</loc>, <loc>https://pythonprogramming.net/flask-registration-tutorial/</loc>, <loc>https://pythonprogramming.net/blog-django-python-tutorial/</loc>, <loc>https://pythonprogramming.net/machine-learning-tutorials/</loc>, <loc>https://pythonprogramming.net/game-development-tutorials/</loc>, <loc>https://pythonprogramming.net/python-3-list-manipulation/</loc>, <loc>https://pythonprogramming.net/reading-csv-files-python-3/</loc>, <loc>https://pythonprogramming.net/tkinter-adding-text-images/</loc>, <loc>https://pythonprogramming.net/matplotlib-graphing-series/</loc>, <loc>https://pythonprogramming.net/matplotlib-styles-tutorial/</loc>, <loc>https://pythonprogramming.net/supplies-for-supercomputer/</loc>, <loc>https://pythonprogramming.net/create-mysql-tables-insert/</loc>, <loc>https://pythonprogramming.net/mysql-update-select-delete/</loc>, <loc>https://pythonprogramming.net/more-on-patterns-hft-forex/</loc>, <loc>https://pythonprogramming.net/autopilot-raspberry-pi-car/</loc>, <loc>https://pythonprogramming.net/pygame-making-games-python/</loc>, <loc>https://pythonprogramming.net/pygame-start-menu-tutorial/</loc>, <loc>https://pythonprogramming.net/adding-sounds-music-pygame/</loc>, <loc>https://pythonprogramming.net/graphing-images-matplotlib/</loc>, <loc>https://pythonprogramming.net/progress-bar-pyqt-tutorial/</loc>, <loc>https://pythonprogramming.net/graphing-pandas-matplotlib/</loc>, <loc>https://pythonprogramming.net/styles-matplotlib-tutorial/</loc>, <loc>https://pythonprogramming.net/creating-main-menu-tkinter/</loc>, <loc>https://pythonprogramming.net/pulling-data-from-seaofbtc/</loc>, <loc>https://pythonprogramming.net/installing-nltk-nlp-python/</loc>, <loc>https://pythonprogramming.net/accuracy-testing-basic-nlp/</loc>, <loc>https://pythonprogramming.net/price-to-earnings-screener/</loc>, <loc>https://pythonprogramming.net/adding-historical-earnings/</loc>, <loc>https://pythonprogramming.net/strategy-function-tutorial/</loc>, <loc>https://pythonprogramming.net/using-monte-carlo-to-snoop/</loc>, <loc>https://pythonprogramming.net/web-development-tutorials/</loc>, <loc>https://pythonprogramming.net/gui-development-tutorials/</loc>, <loc>https://pythonprogramming.net/tkinter-menu-bar-tutorial/</loc>, <loc>https://pythonprogramming.net/threading-tutorial-python/</loc>, <loc>https://pythonprogramming.net/gpio-example-raspberry-pi/</loc>, <loc>https://pythonprogramming.net/raspberry-pi-car-supplies/</loc>, <loc>https://pythonprogramming.net/pivoting-raspberry-pi-car/</loc>, <loc>https://pythonprogramming.net/image-thresholding-python/</loc>, <loc>https://pythonprogramming.net/text-editor-pyqt-tutorial/</loc>, <loc>https://pythonprogramming.net/file-saving-pyqt-tutorial/</loc>, <loc>https://pythonprogramming.net/navigating-3d-environment/</loc>, <loc>https://pythonprogramming.net/pandas-standard-deviation/</loc>, <loc>https://pythonprogramming.net/matplotlib-intro-tutorial/</loc>, <loc>https://pythonprogramming.net/styling-gui-bit-using-ttk/</loc>, <loc>https://pythonprogramming.net/scraping-parsing-rss-feed/</loc>, <loc>https://pythonprogramming.net/finding-related-sentiment/</loc>, <loc>https://pythonprogramming.net/lemmatizing-nltk-tutorial/</loc>, <loc>https://pythonprogramming.net/monte-carlo-dice-function/</loc>, <loc>https://pythonprogramming.net/quadcopter-parts-tutorial/</loc>, <loc>https://pythonprogramming.net/yahoo_finance_replacement</loc>, <loc>https://pythonprogramming.net/built-functions-python-3/</loc>, <loc>https://pythonprogramming.net/urllib-tutorial-python-3/</loc>, <loc>https://pythonprogramming.net/learning-and-testing-svm/</loc>, <loc>https://pythonprogramming.net/more-predicting-outcomes/</loc>, <loc>https://pythonprogramming.net/predicting-from-patterns/</loc>, <loc>https://pythonprogramming.net/turning-raspberry-pi-car/</loc>, <loc>https://pythonprogramming.net/displaying-images-pygame/</loc>, <loc>https://pythonprogramming.net/image-recognition-python/</loc>, <loc>https://pythonprogramming.net/open-files-pyqt-tutorial/</loc>, <loc>https://pythonprogramming.net/exchange-choice-handling/</loc>, <loc>https://pythonprogramming.net/adding-indicator-support/</loc>, <loc>https://pythonprogramming.net/stop-words-nltk-tutorial/</loc>, <loc>https://pythonprogramming.net/fundamental-company-data/</loc>, <loc>https://pythonprogramming.net/peg-ratio-stock-screener/</loc>, <loc>https://pythonprogramming.net/organizing-earnings-data/</loc>, <loc>https://pythonprogramming.net/simple-data-manipulation/</loc>, <loc>https://pythonprogramming.net/running-multiple-scripts/</loc>, <loc>https://pythonprogramming.net/flask-homepage-completed/</loc>, <loc>https://pythonprogramming.net/flask-send-file-tutorial/</loc>, <loc>https://pythonprogramming.net/data-analysis-tutorials/</loc>, <loc>https://pythonprogramming.net/mpi4py-size-command-mpi/</loc>, <loc>https://pythonprogramming.net/shuffling-data-learning/</loc>, <loc>https://pythonprogramming.net/pygame-crashing-objects/</loc>, <loc>https://pythonprogramming.net/basic-gui-pyqt-tutorial/</loc>, <loc>https://pythonprogramming.net/check-box-pyqt-tutorial/</loc>, <loc>https://pythonprogramming.net/website-scraping-basics/</loc>, <loc>https://pythonprogramming.net/populating-nlp-database/</loc>, <loc>https://pythonprogramming.net/pandas-basics-sentiment/</loc>, <loc>https://pythonprogramming.net/sentiment-analysis-data/</loc>, <loc>https://pythonprogramming.net/dynamic-moving-averages/</loc>, <loc>https://pythonprogramming.net/more-analysis-sentiment/</loc>, <loc>https://pythonprogramming.net/checking-bettor-results/</loc>, <loc>https://pythonprogramming.net/comparing-profitability/</loc>, <loc>https://pythonprogramming.net/website-home-page-flask/</loc>, <loc>https://pythonprogramming.net/crontab-tutorial-basics/</loc>, <loc>https://pythonprogramming.net/flask-includes-tutorial/</loc>, <loc>https://pythonprogramming.net/python-3-loop-tutorial/</loc>, <loc>https://pythonprogramming.net/else-python-3-tutorial/</loc>, <loc>https://pythonprogramming.net/global-local-variables/</loc>, <loc>https://pythonprogramming.net/python-lists-vs-tuples/</loc>, <loc>https://pythonprogramming.net/storing-found-patterns/</loc>, <loc>https://pythonprogramming.net/pygame-button-function/</loc>, <loc>https://pythonprogramming.net/web-development-python/</loc>, <loc>https://pythonprogramming.net/flask-template-extends/</loc>, <loc>https://pythonprogramming.net/wireframe-graph-python/</loc>, <loc>https://pythonprogramming.net/kivy-language-tutorial/</loc>, <loc>https://pythonprogramming.net/scraping-text-websites/</loc>, <loc>https://pythonprogramming.net/what-next-nlp-tutorial/</loc>, <loc>https://pythonprogramming.net/stemming-nltk-tutorial/</loc>, <loc>https://pythonprogramming.net/chunking-nltk-tutorial/</loc>, <loc>https://pythonprogramming.net/chinking-nltk-tutorial/</loc>, <loc>https://pythonprogramming.net/connecting-with-quandl/</loc>, <loc>https://pythonprogramming.net/interactive-tutorials/</loc>, <loc>https://pythonprogramming.net/testing-supercomputer/</loc>, <loc>https://pythonprogramming.net/mysql-insert-variable/</loc>, <loc>https://pythonprogramming.net/percent-change-python/</loc>, <loc>https://pythonprogramming.net/buttons-pyqt-tutorial/</loc>, <loc>https://pythonprogramming.net/menubar-pyqt-tutorial/</loc>, <loc>https://pythonprogramming.net/toolbar-pyqt-tutorial/</loc>, <loc>https://pythonprogramming.net/multiple-opengl-cubes/</loc>, <loc>https://pythonprogramming.net/basemap-possibilities/</loc>, <loc>https://pythonprogramming.net/kivy-loader-for-style/</loc>, <loc>https://pythonprogramming.net/adding-trading-option/</loc>, <loc>https://pythonprogramming.net/back-testing-nlp-nltk/</loc>, <loc>https://pythonprogramming.net/wordnet-nltk-tutorial/</loc>, <loc>https://pythonprogramming.net/jquery-flask-tutorial/</loc>, <loc>https://pythonprogramming.net/paypal-flask-tutorial/</loc>, <loc>https://pythonprogramming.net/python-eval-tutorial/</loc>, <loc>https://pythonprogramming.net/python-exec-tutorial/</loc>, <loc>https://pythonprogramming.net/changing-pygame-icon/</loc>, <loc>https://pythonprogramming.net/more-stock-screening/</loc>, <loc>https://pythonprogramming.net/simple-strategy-idea/</loc>, <loc>https://pythonprogramming.net/sentiment-conclusion/</loc>, <loc>https://pythonprogramming.net/graphing-monte-carlo/</loc>, <loc>https://pythonprogramming.net/flask-user-dashboard/</loc>, <loc>https://pythonprogramming.net/flash-flask-tutorial/</loc>, <loc>https://pythonprogramming.net/flask-users-tutorial/</loc>, <loc>https://pythonprogramming.net/flask-cms-conclusion/</loc>, <loc>https://pythonprogramming.net/flask-email-tutorial/</loc>, <loc>https://pythonprogramming.net/question_incorrect_/</loc>, <loc>https://pythonprogramming.net/graph-user-tracking/</loc>, <loc>https://pythonprogramming.net/sys-module-python-3/</loc>, <loc>https://pythonprogramming.net/supercomputer-intro/</loc>, <loc>https://pythonprogramming.net/python-pixel-arrays/</loc>, <loc>https://pythonprogramming.net/kivy-widgets-labels/</loc>, <loc>https://pythonprogramming.net/price-to-book-ratio/</loc>, <loc>https://pythonprogramming.net/martingale-strategy/</loc>, <loc>https://pythonprogramming.net/navigating-terminal/</loc>, <loc>https://pythonprogramming.net/terminal-navigation/</loc>, <loc>https://pythonprogramming.net/challenge_attempt_/</loc>, <loc>https://pythonprogramming.net/robotics-tutorials/</loc>, <loc>https://pythonprogramming.net/parsememcparseface/</loc>, <loc>https://pythonprogramming.net/python-3-os-module/</loc>, <loc>https://pythonprogramming.net/more-kivy-language/</loc>, <loc>https://pythonprogramming.net/adding-exchanges-2/</loc>, <loc>https://pythonprogramming.net/adding-exchanges-3/</loc>, <loc>https://pythonprogramming.net/dalembert-strategy/</loc>, <loc>https://pythonprogramming.net/dalembert-analysis/</loc>, <loc>https://pythonprogramming.net/monte-carlo-python/</loc>, <loc>https://pythonprogramming.net/testing-labouchere/</loc>, <loc>https://pythonprogramming.net/flask-seo-tutorial/</loc>, <loc>https://pythonprogramming.net/question_correct_/</loc>, <loc>https://pythonprogramming.net/finance-tutorials/</loc>, <loc>https://pythonprogramming.net/using-quandl-data/</loc>, <loc>https://pythonprogramming.net/pause-game-pygame/</loc>, <loc>https://pythonprogramming.net/image-recognition/</loc>, <loc>https://pythonprogramming.net/more-pixel-arrays/</loc>, <loc>https://pythonprogramming.net/saving-image-data/</loc>, <loc>https://pythonprogramming.net/kivy-float-layout/</loc>, <loc>https://pythonprogramming.net/cron-tutorial-vps/</loc>, <loc>https://pythonprogramming.net/background_tasks/</loc>, <loc>https://pythonprogramming.net/guided-tutorials/</loc>, <loc>https://pythonprogramming.net/python-vps-intro/</loc>, <loc>https://pythonprogramming.net/forgot-password/</loc>, <loc>https://pythonprogramming.net/support-us-info/</loc>, <loc>https://pythonprogramming.net/flask-bootstrap/</loc>, <loc>https://pythonprogramming.net/python-anywhere/</loc>, <loc>https://pythonprogramming.net/reset-password/</loc>, <loc>https://pythonprogramming.net/support-donate/</loc>, <loc>https://pythonprogramming.net/making-modules/</loc>, <loc>https://pythonprogramming.net/python-sockets/</loc>, <loc>https://pythonprogramming.net/organizing-gui/</loc>, <loc>https://pythonprogramming.net/pygal-tutorial/</loc>, <loc>https://pythonprogramming.net/data-analysis/</loc>, <loc>https://pythonprogramming.net/simple-bettor/</loc>, <loc>https://pythonprogramming.net/nohup-command/</loc>, <loc>https://pythonprogramming.net/udemy-piracy/</loc>, <loc>https://pythonprogramming.net/raspberry-pi/</loc>, <loc>https://pythonprogramming.net/_add_numbers</loc>, <loc>https://pythonprogramming.net/search_index/</loc>, <loc>https://pythonprogramming.net/sitemap.xml</loc>, <loc>https://pythonprogramming.net/mysql-intro/</loc>, <loc>https://pythonprogramming.net/robots.txt/</loc>, <loc>https://pythonprogramming.net/consulting/</loc>, <loc>https://pythonprogramming.net/50-50-odds/</loc>, <loc>https://pythonprogramming.net/pagination/</loc>, <loc>https://pythonprogramming.net/community/</loc>, <loc>https://pythonprogramming.net/dashboard/</loc>, <loc>https://pythonprogramming.net/storedev/</loc>, <loc>https://pythonprogramming.net/register</loc>, <loc>https://pythonprogramming.net/register/</loc>, <loc>https://pythonprogramming.net/welcome/</loc>, <loc>https://pythonprogramming.net/contact/</loc>, <loc>https://pythonprogramming.net/support/</loc>, <loc>https://pythonprogramming.net/search/</loc>, <loc>https://pythonprogramming.net/logout/</loc>, <loc>https://pythonprogramming.net/topics/</loc>, <loc>https://pythonprogramming.net/howsdb/</loc>, <loc>https://pythonprogramming.net/store/</loc>, <loc>https://pythonprogramming.net/login/</loc>, <loc>https://pythonprogramming.net/begin/</loc>, <loc>https://pythonprogramming.net/about/</loc>, <loc>https://pythonprogramming.net/blog/</loc>, <loc>https://pythonprogramming.net/user/</loc>, <loc>https://pythonprogramming.net/+=1/</loc>, <loc>https://pythonprogramming.net/db2/</loc>, <loc>https://pythonprogramming.net/qe/</loc>, <loc>https://pythonprogramming.net/go/</loc>, <loc>https://pythonprogramming.net/</loc>]\n"
     ]
    }
   ],
   "source": [
    "print(xml_soup.find_all('loc'))"
   ]
  },
  {
   "cell_type": "code",
   "execution_count": 41,
   "metadata": {},
   "outputs": [
    {
     "name": "stdout",
     "output_type": "stream",
     "text": [
      "None\n"
     ]
    }
   ],
   "source": [
    "print(xml_soup.find('table'))"
   ]
  }
 ],
 "metadata": {
  "kernelspec": {
   "display_name": "Python 3",
   "language": "python",
   "name": "python3"
  },
  "language_info": {
   "codemirror_mode": {
    "name": "ipython",
    "version": 3
   },
   "file_extension": ".py",
   "mimetype": "text/x-python",
   "name": "python",
   "nbconvert_exporter": "python",
   "pygments_lexer": "ipython3",
   "version": "3.6.1"
  }
 },
 "nbformat": 4,
 "nbformat_minor": 2
}
